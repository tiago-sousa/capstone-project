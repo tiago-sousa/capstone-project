{
 "cells": [
  {
   "cell_type": "code",
   "execution_count": 1,
   "id": "44a9630c-0661-4fe8-9382-7f53917694e0",
   "metadata": {},
   "outputs": [
    {
     "data": {
      "application/vnd.jupyter.widget-view+json": {
       "model_id": "ceb73a17862e4bea8a2548a6e3f17d8d",
       "version_major": 2,
       "version_minor": 0
      },
      "text/plain": [
       "MitoWidget(analysis_data_json='{\"analysisName\": \"UUID-96e98fc9-892e-4ab7-b8a7-2707970a903b\", \"code\": {\"imports…"
      ]
     },
     "metadata": {},
     "output_type": "display_data"
    }
   ],
   "source": [
    "import mitosheet\n",
    "mitosheet.sheet()"
   ]
  },
  {
   "cell_type": "code",
   "execution_count": null,
   "id": "c071d178-6baa-41f6-a92c-c75a5422fad8",
   "metadata": {},
   "outputs": [],
   "source": [
    "from mitosheet import *; register_analysis('UUID-1002b4b2-e4da-4400-99c8-deee5dd0df61')\n",
    "\n",
    "# Imported /Users/tiagosousa/projects/capstone-project/data/train_data.csv\n",
    "import pandas as pd\n",
    "train_data = pd.read_csv(r'/Users/tiagosousa/projects/capstone-project/data/train_data.csv')\n",
    "\n",
    "# Added column new-column-92ua to train_data\n",
    "train_data.insert(1, 'new-column-92ua', 0)\n",
    "\n",
    "# Deleted column new-column-92ua from train_data\n",
    "train_data.drop(['new-column-92ua'], axis=1, inplace=True)\n"
   ]
  },
  {
   "cell_type": "code",
   "execution_count": null,
   "id": "cee1c726-106e-4a95-8329-19cf0472a447",
   "metadata": {},
   "outputs": [],
   "source": [
    "# Import plotly and create a figure\n",
    "import plotly.graph_objects as go\n",
    "fig = go.Figure()\n",
    "\n",
    "\n",
    "# Add the histogram traces to the figure\n",
    "for column_header in ['hemoglobin_level', 'num_lab_procedures']:\n",
    "    fig.add_trace(go.Histogram(x=train_data[column_header], name=str(column_header)))\n",
    "\n",
    "# Update the layout\n",
    "# See Plotly documentation for customizations: https://plotly.com/python/reference/histogram/\n",
    "fig.update_layout(\n",
    "    title=\"hemoglobin_level, num_lab_procedures frequencies\",\n",
    "    barmode='group'\n",
    ")\n",
    "fig.show(renderer=\"iframe\")"
   ]
  }
 ],
 "metadata": {
  "kernelspec": {
   "display_name": "Python 3 (ipykernel)",
   "language": "python",
   "name": "python3"
  },
  "language_info": {
   "codemirror_mode": {
    "name": "ipython",
    "version": 3
   },
   "file_extension": ".py",
   "mimetype": "text/x-python",
   "name": "python",
   "nbconvert_exporter": "python",
   "pygments_lexer": "ipython3",
   "version": "3.7.12"
  }
 },
 "nbformat": 4,
 "nbformat_minor": 5
}
