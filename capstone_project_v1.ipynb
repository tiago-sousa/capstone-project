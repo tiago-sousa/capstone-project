{
 "cells": [
  {
   "cell_type": "markdown",
   "id": "01de3958",
   "metadata": {},
   "source": [
    "# Setup"
   ]
  },
  {
   "cell_type": "markdown",
   "id": "08b228be",
   "metadata": {},
   "source": [
    "## Imports"
   ]
  },
  {
   "cell_type": "code",
   "execution_count": 1,
   "id": "9e561a24",
   "metadata": {},
   "outputs": [],
   "source": [
    "# Setup\n",
    "import os\n",
    "import joblib\n",
    "import pickle\n",
    "import json\n",
    "from utils.custom_transformers import ColumnSelector, CategoricalTransformer, SaveTransformer, NumericalTransformer\n",
    "\n",
    "# Data Analysis\n",
    "import pandas as pd\n",
    "import numpy as np\n",
    "from pandas_profiling import ProfileReport\n",
    "import matplotlib.pyplot as plt\n",
    "\n",
    "#Scikit learn\n",
    "from sklearn.base import BaseEstimator, TransformerMixin\n",
    "from sklearn.compose import ColumnTransformer\n",
    "from sklearn.model_selection import train_test_split\n",
    "from sklearn.pipeline import make_pipeline, Pipeline, FeatureUnion\n",
    "from sklearn.base import BaseEstimator, TransformerMixin\n",
    "from sklearn.preprocessing import OneHotEncoder, MinMaxScaler\n",
    "from sklearn.impute import SimpleImputer\n",
    "from sklearn.linear_model import LogisticRegression\n",
    "from sklearn.ensemble import RandomForestClassifier, GradientBoostingClassifier\n",
    "from sklearn.metrics import confusion_matrix,roc_auc_score,roc_curve,classification_report,auc, plot_confusion_matrix"
   ]
  },
  {
   "cell_type": "markdown",
   "id": "955ced90",
   "metadata": {},
   "source": [
    "## Configs"
   ]
  },
  {
   "cell_type": "code",
   "execution_count": 2,
   "id": "c21a2511",
   "metadata": {},
   "outputs": [],
   "source": [
    "%matplotlib inline\n",
    "pd.set_option('display.max_columns', None)\n",
    "seed = 42"
   ]
  },
  {
   "cell_type": "markdown",
   "id": "0ee92fb6",
   "metadata": {},
   "source": [
    "## Functions"
   ]
  },
  {
   "cell_type": "code",
   "execution_count": 3,
   "id": "236c6a62",
   "metadata": {},
   "outputs": [],
   "source": [
    "def load_data(file_name, folder = \"data\"):\n",
    "    df = pd.read_csv(os.path.join(folder, file_name))\n",
    "    return df\n",
    "\n",
    "def target_transformation(text):\n",
    "    text = text.replace(\" \", \"\").lower()\n",
    "    if text == \"yes\" :\n",
    "        return 1\n",
    "    elif text == \"no\":\n",
    "        return 0"
   ]
  },
  {
   "cell_type": "markdown",
   "id": "21c76eaa",
   "metadata": {},
   "source": [
    "# Data Analysis"
   ]
  },
  {
   "cell_type": "markdown",
   "id": "31f7bd64",
   "metadata": {},
   "source": [
    "## Data Load"
   ]
  },
  {
   "cell_type": "code",
   "execution_count": 4,
   "id": "9b982636",
   "metadata": {},
   "outputs": [],
   "source": [
    "df_original = load_data(\"train_data.csv\",\"data\")"
   ]
  },
  {
   "cell_type": "code",
   "execution_count": 5,
   "id": "051d4e96",
   "metadata": {},
   "outputs": [
    {
     "data": {
      "text/plain": [
       "Index(['admission_id', 'patient_id', 'race', 'gender', 'age', 'weight',\n",
       "       'admission_type_code', 'discharge_disposition_code',\n",
       "       'admission_source_code', 'time_in_hospital', 'payer_code',\n",
       "       'medical_specialty', 'has_prosthesis', 'complete_vaccination_status',\n",
       "       'num_lab_procedures', 'num_procedures', 'num_medications',\n",
       "       'number_outpatient', 'number_emergency', 'number_inpatient', 'diag_1',\n",
       "       'diag_2', 'diag_3', 'number_diagnoses', 'blood_type',\n",
       "       'hemoglobin_level', 'blood_transfusion', 'max_glu_serum', 'A1Cresult',\n",
       "       'diuretics', 'insulin', 'change', 'diabetesMed', 'readmitted'],\n",
       "      dtype='object')"
      ]
     },
     "execution_count": 5,
     "metadata": {},
     "output_type": "execute_result"
    }
   ],
   "source": [
    "df_original.columns"
   ]
  },
  {
   "cell_type": "markdown",
   "id": "1bf6e7ef",
   "metadata": {},
   "source": [
    "## Exploratory Data Analysis"
   ]
  },
  {
   "cell_type": "markdown",
   "id": "e4d7b985",
   "metadata": {},
   "source": [
    "### Overall Analysis"
   ]
  },
  {
   "cell_type": "code",
   "execution_count": null,
   "id": "5afabe06",
   "metadata": {
    "scrolled": false
   },
   "outputs": [],
   "source": [
    "df_original.dtypes"
   ]
  },
  {
   "cell_type": "code",
   "execution_count": 6,
   "id": "18f6622d",
   "metadata": {},
   "outputs": [
    {
     "data": {
      "text/plain": [
       "No    43772\n",
       "Ch    37640\n",
       "Name: change, dtype: int64"
      ]
     },
     "execution_count": 6,
     "metadata": {},
     "output_type": "execute_result"
    }
   ],
   "source": [
    "df_original['change'].value_counts()"
   ]
  },
  {
   "cell_type": "code",
   "execution_count": null,
   "id": "3b05417a",
   "metadata": {},
   "outputs": [],
   "source": [
    "df_original.isna().sum()"
   ]
  },
  {
   "cell_type": "markdown",
   "id": "68e94900",
   "metadata": {},
   "source": [
    "# Pipelines"
   ]
  },
  {
   "cell_type": "markdown",
   "id": "5670266a",
   "metadata": {},
   "source": [
    "## Custom Transformers"
   ]
  },
  {
   "cell_type": "code",
   "execution_count": null,
   "id": "b0e63323",
   "metadata": {},
   "outputs": [],
   "source": [
    "class ColumnSelector(BaseEstimator, TransformerMixin):\n",
    "    \n",
    "    def __init__(self, columns):\n",
    "        self.columns = columns\n",
    "        \n",
    "    def fit(self, X, y=None):\n",
    "        return self\n",
    "    \n",
    "    def transform(self, X):\n",
    "        return X[self.columns]"
   ]
  },
  {
   "cell_type": "code",
   "execution_count": null,
   "id": "f56c3290",
   "metadata": {},
   "outputs": [],
   "source": [
    "class Save(BaseEstimator, TransformerMixin):\n",
    "    \n",
    "    def __init__(self, step):\n",
    "        self.step = step\n",
    "        pass\n",
    "    \n",
    "    def fit(self, X=None, y=None, **fit_params):\n",
    "        return self\n",
    "    \n",
    "    def transform(self, data):\n",
    "        X = data.copy()\n",
    "        name = \"pipeline_\"+self.step+\"_spy.csv\"\n",
    "        pd.DataFrame(X).head(50).to_csv(name)\n",
    "        return X"
   ]
  },
  {
   "cell_type": "code",
   "execution_count": null,
   "id": "cbf1f8ff",
   "metadata": {},
   "outputs": [],
   "source": [
    "class CategoricalTransformer(BaseEstimator, TransformerMixin):\n",
    "    \n",
    "    def __init__(self):\n",
    "        super().__init__()\n",
    "\n",
    "    def fit(self, X, y=None):\n",
    "        return self\n",
    "\n",
    "    def pre_process_text(self, obj):\n",
    "        return str(obj).replace(\" \",\"\").lower()\n",
    "    \n",
    "    def bool_to_binary(self, obj):\n",
    "        if obj == True:\n",
    "            return 1\n",
    "        elif obj == False:\n",
    "            return 0\n",
    "    \n",
    "    def text_to_binary(self, obj):\n",
    "        if obj == \"yes\" or obj == \"ch\"  :\n",
    "            return 1\n",
    "        elif obj == \"no\":\n",
    "            return 0\n",
    "    \n",
    "    def handle_missing_values(self, obj):\n",
    "        if pd.isna(obj) or str(obj) == \"?\" or str(obj) == \"unknown/invalid\" or str(obj) == \"nan\" :\n",
    "            return np.nan\n",
    "        else :\n",
    "            return obj\n",
    "        \n",
    "    def transform(self, X, y=None):\n",
    "        _X = X.copy()\n",
    "        for _col in _X:     \n",
    "            if _col in ['has_prosthesis','blood_transfusion']:\n",
    "                _X[_col] = _X[_col].apply(self.bool_to_binary)\n",
    "            elif _col in ['diuretics','insulin','change','diabetesMed','readmitted']:\n",
    "                _X[_col] = _X[_col].apply(self.pre_process_text)\n",
    "                _X[_col] = _X[_col].apply(self.text_to_binary)\n",
    "            elif _col in ['admission_source_code','discharge_disposition_code','admission_type_code','race','gender','age','weight','payer_code','medical_specialty','complete_vaccination_status','blood_type','max_glu_serum','A1Cresult','diag_1','diag_2','diag_3']:\n",
    "                _X[_col] = _X[_col].apply(self.pre_process_text)\n",
    "                _X[_col] = _X[_col].apply(self.handle_missing_values)\n",
    "            \n",
    "        return _X"
   ]
  },
  {
   "cell_type": "code",
   "execution_count": null,
   "id": "bc6d1fdb",
   "metadata": {},
   "outputs": [],
   "source": [
    "class NumericalTransformer(BaseEstimator, TransformerMixin):\n",
    "    def __init__(self):\n",
    "        super().__init__()\n",
    "\n",
    "    def fit(self, X, y=None):\n",
    "        return self\n",
    "    \n",
    "    def missing_to_zero(self, obj):\n",
    "        if pd.isna(obj):\n",
    "            return 0\n",
    "        else :\n",
    "            return obj\n",
    "    \n",
    "    def return_float(self, obj):\n",
    "        return float(obj)\n",
    "    \n",
    "    def return_int(self, obj):\n",
    "        return int(obj)\n",
    "        \n",
    "    def transform(self, X, y=None):\n",
    "        _X = X.copy()\n",
    "        for _col in _X:\n",
    "            if _col in ['num_lab_procedures','num_procedures','num_medications']:\n",
    "                _X[_col] = _X[_col].apply(self.missing_to_zero)\n",
    "                _X[_col] = _X[_col].apply(self.return_int)\n",
    "            elif _col in ['time_in_hospital','number_outpatient','number_emergency','number_inpatient','number_diagnoses']:\n",
    "                _X[_col] = _X[_col].apply(self.return_int)\n",
    "            elif _col in ['hemoglobin_level']:\n",
    "                _X[_col] = _X[_col].apply(self.return_float)\n",
    "        return _X"
   ]
  },
  {
   "cell_type": "code",
   "execution_count": 6,
   "id": "c6c3adef",
   "metadata": {},
   "outputs": [],
   "source": [
    "X_train, X_test, y_train, y_test = train_test_split(df_original.drop(columns=['readmitted']), \n",
    "                                                    df_original['readmitted'],\n",
    "                                                    shuffle = False,\n",
    "                                                    test_size=.4, \n",
    "                                                    random_state=seed)"
   ]
  },
  {
   "cell_type": "code",
   "execution_count": 7,
   "id": "2b8480e0",
   "metadata": {},
   "outputs": [],
   "source": [
    "y_train = y_train.apply(target_transformation)\n",
    "y_test = y_test.apply(target_transformation)"
   ]
  },
  {
   "cell_type": "code",
   "execution_count": 8,
   "id": "f69544df",
   "metadata": {},
   "outputs": [
    {
     "name": "stdout",
     "output_type": "stream",
     "text": [
      "Predictions on training data: [0 0 0 ... 0 0 0]\n",
      "Predictions on test data: [0 0 0 ... 0 0 0]\n"
     ]
    }
   ],
   "source": [
    "categorical = ['change','diabetesMed','has_prosthesis','blood_transfusion','diuretics','insulin','admission_source_code','discharge_disposition_code','admission_type_code','payer_code','complete_vaccination_status','blood_type','max_glu_serum','A1Cresult']#,'age','race','gender','weight','diag_1','diag_2','diag_3','medical_specialty']\n",
    "numerical = ['time_in_hospital','num_lab_procedures','num_procedures','num_medications','number_outpatient','number_emergency','number_inpatient','number_diagnoses','hemoglobin_level']\n",
    "\n",
    "cat_pipe = Pipeline([\n",
    "    ('selector', ColumnSelector(categorical))\n",
    "    ,('transformer',CategoricalTransformer())\n",
    "    #,(\"save_to_csv_cat1\", Save(step=\"cat1\"))\n",
    "    ,('imputer', SimpleImputer(strategy='constant', fill_value='missing'))\n",
    "    ,('encoder', OneHotEncoder(handle_unknown='ignore', sparse=False))\n",
    "    #,(\"save_to_csv_cat2\", Save(step=\"cat2\"))\n",
    "])\n",
    "\n",
    "num_pipe = Pipeline([\n",
    "    ('selector', ColumnSelector(numerical))\n",
    "    ,('transformer',NumericalTransformer())\n",
    "    #,(\"save_to_csv_num1\", Save(step=\"num1\"))\n",
    "    ,('imputer', SimpleImputer(strategy='median'))\n",
    "    ,('scaler', MinMaxScaler())\n",
    "    #,(\"save_to_csv_num2\", Save(step=\"num2\"))\n",
    "])\n",
    "\n",
    "pre_processor = FeatureUnion([\n",
    "    ('cat', cat_pipe)\n",
    "    ,('num', num_pipe)\n",
    "])\n",
    "\n",
    "pipeline = Pipeline([\n",
    "    ('preprocessor', pre_processor)\n",
    "    ,('model', GradientBoostingClassifier())\n",
    "])\n",
    "\n",
    "pipeline.fit(X_train, y_train)\n",
    "\n",
    "# Predict training data\n",
    "y_train_pred = pipeline.predict(X_train)\n",
    "print(f\"Predictions on training data: {y_train_pred}\")\n",
    "\n",
    "# Predict test data\n",
    "y_test_pred = pipeline.predict(X_test)\n",
    "print(f\"Predictions on test data: {y_test_pred}\")\n"
   ]
  },
  {
   "cell_type": "code",
   "execution_count": 10,
   "id": "17e68717",
   "metadata": {},
   "outputs": [
    {
     "data": {
      "image/png": "[encoded data removed]",
      "text/plain": [
       "<Figure size 432x288 with 2 Axes>"
      ]
     },
     "metadata": {
      "needs_background": "light"
     },
     "output_type": "display_data"
    }
   ],
   "source": [
    "plot_confusion_matrix(pipeline, X_test, y_test)  \n",
    "plt.show()"
   ]
  },
  {
   "cell_type": "code",
   "execution_count": 11,
   "id": "704582c8",
   "metadata": {},
   "outputs": [
    {
     "name": "stdout",
     "output_type": "stream",
     "text": [
      "ROC-AUC:\n"
     ]
    },
    {
     "data": {
      "image/png": "[encoded data removed]",
      "text/plain": [
       "<Figure size 432x288 with 1 Axes>"
      ]
     },
     "metadata": {
      "needs_background": "light"
     },
     "output_type": "display_data"
    }
   ],
   "source": [
    "y_scores = pipeline.predict_proba(X_test)[:,1]\n",
    "fpr, tpr, threshold = roc_curve(y_test, y_scores)\n",
    "roc_auc = auc(fpr, tpr)\n",
    "print(\"ROC-AUC:\")\n",
    "plt.title(\"Receiver Operating Characteristic\")\n",
    "plt.plot(fpr, tpr, 'b', label = 'AUC = %0.5f' % roc_auc)\n",
    "plt.legend(loc = 'lower right')\n",
    "plt.plot([0, 1], [0, 1],'r--')\n",
    "plt.xlim([0, 1])\n",
    "plt.ylim([0, 1])\n",
    "plt.ylabel('True Positive Rate')\n",
    "plt.xlabel('False Positive Rate')\n",
    "plt.show()"
   ]
  },
  {
   "cell_type": "code",
   "execution_count": 12,
   "id": "ec3de0a9",
   "metadata": {},
   "outputs": [
    {
     "name": "stdout",
     "output_type": "stream",
     "text": [
      "With treshold = 0.0 AUC of 0.5\n",
      "With treshold = 0.05263157894736842 AUC of 0.5173117278650462\n",
      "With treshold = 0.10526315789473684 AUC of 0.6251545166800523\n",
      "With treshold = 0.15789473684210525 AUC of 0.5979917495435414\n",
      "With treshold = 0.21052631578947367 AUC of 0.558757595485592\n",
      "With treshold = 0.2631578947368421 AUC of 0.5375816710522728\n",
      "With treshold = 0.3157894736842105 AUC of 0.5279421788801134\n",
      "With treshold = 0.3684210526315789 AUC of 0.513527342791446\n",
      "With treshold = 0.42105263157894735 AUC of 0.5071356546671187\n",
      "With treshold = 0.47368421052631576 AUC of 0.5037583153914925\n",
      "With treshold = 0.5263157894736842 AUC of 0.5023556469083988\n",
      "With treshold = 0.5789473684210527 AUC of 0.501731840074698\n",
      "With treshold = 0.631578947368421 AUC of 0.5005889117270997\n",
      "With treshold = 0.6842105263157894 AUC of 0.5001906674364797\n",
      "With treshold = 0.7368421052631579 AUC of 0.5002252037859876\n",
      "With treshold = 0.7894736842105263 AUC of 0.5001212359803706\n",
      "With treshold = 0.8421052631578947 AUC of 0.5001385041551246\n",
      "With treshold = 0.894736842105263 AUC of 0.5\n",
      "With treshold = 0.9473684210526315 AUC of 0.5\n",
      "With treshold = 1.0 AUC of 0.5\n"
     ]
    }
   ],
   "source": [
    "for a in np.linspace(0,1,20):\n",
    "    y_scores_treshold = [1 if x > a else 0 for x in y_scores]\n",
    "    fpr, tpr, thresholds = roc_curve(y_test, y_scores_treshold, pos_label=1)\n",
    "    print(\"With treshold = {} AUC of {}\".format(a,auc(fpr, tpr)))"
   ]
  },
  {
   "cell_type": "markdown",
   "id": "7648b293",
   "metadata": {},
   "source": [
    "# Model\n"
   ]
  },
  {
   "cell_type": "code",
   "execution_count": 13,
   "id": "e5ac48d0",
   "metadata": {},
   "outputs": [],
   "source": [
    "TMP_DIR = '/tmp'"
   ]
  },
  {
   "cell_type": "code",
   "execution_count": 14,
   "id": "dbdd8509",
   "metadata": {},
   "outputs": [
    {
     "data": {
      "text/plain": [
       "['/tmp/pipeline.pickle']"
      ]
     },
     "execution_count": 14,
     "metadata": {},
     "output_type": "execute_result"
    }
   ],
   "source": [
    "with open(os.path.join(TMP_DIR, \"columns.json\"), 'w') as fh:\n",
    "    json.dump(df_original.columns.tolist(), fh)\n",
    "\n",
    "with open(os.path.join(TMP_DIR, \"dtypes.pickle\"), 'wb') as fh:\n",
    "    pickle.dump(df_original.dtypes, fh)\n",
    "    \n",
    "joblib.dump(pipeline, os.path.join(TMP_DIR, 'pipeline.pickle')) "
   ]
  }
 ],
 "metadata": {
  "kernelspec": {
   "display_name": "Python 3 (ipykernel)",
   "language": "python",
   "name": "python3"
  },
  "language_info": {
   "codemirror_mode": {
    "name": "ipython",
    "version": 3
   },
   "file_extension": ".py",
   "mimetype": "text/x-python",
   "name": "python",
   "nbconvert_exporter": "python",
   "pygments_lexer": "ipython3",
   "version": "3.7.12"
  }
 },
 "nbformat": 4,
 "nbformat_minor": 5
}
