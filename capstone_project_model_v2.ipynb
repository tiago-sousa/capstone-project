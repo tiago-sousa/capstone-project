{
 "cells": [
  {
   "cell_type": "markdown",
   "id": "01de3958",
   "metadata": {},
   "source": [
    "# Setup"
   ]
  },
  {
   "cell_type": "markdown",
   "id": "08b228be",
   "metadata": {},
   "source": [
    "## Imports"
   ]
  },
  {
   "cell_type": "code",
   "execution_count": 23,
   "id": "9e561a24",
   "metadata": {},
   "outputs": [],
   "source": [
    "# Setup\n",
    "import os\n",
    "import joblib\n",
    "import pickle\n",
    "import json\n",
    "from utils.custom_transformers import ColumnSelector, CategoricalTransformer, SaveTransformer, NumericalTransformer\n",
    "from collections import Counter\n",
    "\n",
    "# Data Analysis\n",
    "import pandas as pd\n",
    "import numpy as np\n",
    "from pandas_profiling import ProfileReport\n",
    "import matplotlib.pyplot as plt\n",
    "import seaborn as sn\n",
    "\n",
    "#Scikit learn\n",
    "from lightgbm import LGBMClassifier\n",
    "from category_encoders import TargetEncoder\n",
    "from sklearn.base import BaseEstimator, TransformerMixin\n",
    "from sklearn.compose import ColumnTransformer\n",
    "from sklearn.model_selection import train_test_split, RepeatedStratifiedKFold, cross_val_score\n",
    "from sklearn.pipeline import make_pipeline, Pipeline, FeatureUnion\n",
    "from sklearn.base import BaseEstimator, TransformerMixin\n",
    "from sklearn.preprocessing import OneHotEncoder, MinMaxScaler, RobustScaler\n",
    "from sklearn.impute import SimpleImputer\n",
    "from sklearn.linear_model import LogisticRegression\n",
    "from sklearn.ensemble import RandomForestClassifier, GradientBoostingClassifier\n",
    "from sklearn.metrics import f1_score, auc, roc_curve, precision_recall_curve, precision_score, accuracy_score, precision_recall_fscore_support, auc, recall_score, roc_auc_score\n",
    "from xgboost import XGBClassifier"
   ]
  },
  {
   "cell_type": "markdown",
   "id": "955ced90",
   "metadata": {},
   "source": [
    "## Configs"
   ]
  },
  {
   "cell_type": "code",
   "execution_count": 2,
   "id": "c21a2511",
   "metadata": {},
   "outputs": [],
   "source": [
    "%matplotlib inline\n",
    "pd.set_option('display.max_columns', None)\n",
    "seed = 42"
   ]
  },
  {
   "cell_type": "markdown",
   "id": "0ee92fb6",
   "metadata": {},
   "source": [
    "## Functions"
   ]
  },
  {
   "cell_type": "code",
   "execution_count": 3,
   "id": "236c6a62",
   "metadata": {},
   "outputs": [],
   "source": [
    "def load_data(file_name, folder = \"data\"):\n",
    "    df = pd.read_csv(os.path.join(folder, file_name))\n",
    "    return df\n",
    "\n",
    "def target_transformation(text):\n",
    "    text = text.replace(\" \", \"\").lower()\n",
    "    if text == \"yes\" :\n",
    "        return 1\n",
    "    elif text == \"no\":\n",
    "        return 0"
   ]
  },
  {
   "cell_type": "markdown",
   "id": "21c76eaa",
   "metadata": {},
   "source": [
    "# Data Analysis"
   ]
  },
  {
   "cell_type": "markdown",
   "id": "31f7bd64",
   "metadata": {},
   "source": [
    "## Data Load"
   ]
  },
  {
   "cell_type": "code",
   "execution_count": 4,
   "id": "9b982636",
   "metadata": {},
   "outputs": [],
   "source": [
    "df_original = load_data(\"train_data.csv\",\"data\")"
   ]
  },
  {
   "cell_type": "code",
   "execution_count": 5,
   "id": "f61a5523",
   "metadata": {},
   "outputs": [],
   "source": [
    "patient_list = set(df_original['patient_id'])\n",
    "patients_to_remove = []\n",
    "for patient_id in patient_list:\n",
    "    data = df_original[df_original['patient_id']==patient_id]\n",
    "    distinct_gender = data['gender'].nunique()\n",
    "    distinct_blood_type = data['blood_type'].nunique()\n",
    "    if distinct_gender > 1 or distinct_blood_type > 1:\n",
    "        patients_to_remove.append(patient_id)\n",
    "        \n",
    "df_original_filtered = df_original.copy()\n",
    "df_original_filtered = df_original_filtered.loc[~df_original_filtered['patient_id'].isin(patients_to_remove)]"
   ]
  },
  {
   "cell_type": "markdown",
   "id": "68e94900",
   "metadata": {},
   "source": [
    "# Pipelines"
   ]
  },
  {
   "cell_type": "markdown",
   "id": "5670266a",
   "metadata": {},
   "source": [
    "## Custom Transformers"
   ]
  },
  {
   "cell_type": "code",
   "execution_count": 6,
   "id": "c6c3adef",
   "metadata": {},
   "outputs": [],
   "source": [
    "X_train, X_test, y_train, y_test = train_test_split(df_original_filtered.drop(columns=['readmitted']), \n",
    "                                                    df_original_filtered['readmitted'],\n",
    "                                                    shuffle = False,\n",
    "                                                    test_size=0.3, \n",
    "                                                    random_state=seed)"
   ]
  },
  {
   "cell_type": "code",
   "execution_count": 7,
   "id": "2b8480e0",
   "metadata": {},
   "outputs": [],
   "source": [
    "y_train = y_train.apply(target_transformation)\n",
    "y_test = y_test.apply(target_transformation)"
   ]
  },
  {
   "cell_type": "code",
   "execution_count": 8,
   "id": "dca825b9",
   "metadata": {},
   "outputs": [],
   "source": [
    "def result_metrics(y_test, y_test_pred, y_test_proba):\n",
    "\n",
    "    precision_s = precision_score (y_test,y_test_pred )\n",
    "    accuracy_s = accuracy_score (y_test,y_test_pred )\n",
    "    recall_s = recall_score (y_test,y_test_pred )\n",
    "    roc_auc_s = roc_auc_score(y_test,y_test_pred )\n",
    "    f1_s = f1_score(y_test,y_test_pred )\n",
    "\n",
    "    print(\n",
    "    \"\"\"Key Metrics:\n",
    "\n",
    "    Precision : {} \n",
    "    Accuracy: {}  \n",
    "    Recall: {} \n",
    "    ROC-AUC: {}\n",
    "    F1 Score: {}\"\"\".format(round(precision_s,3),round(accuracy_s,3) ,round(recall_s,3) ,round(roc_auc_s,3),round(f1_s,3) ))\n",
    "\n",
    "    print(\"\"\"\n",
    "    -------------\n",
    "\n",
    "    Recall vs Precision Tresholds:\n",
    "    \"\"\")\n",
    "\n",
    "    precision, recall, thresholds = precision_recall_curve(y_test, y_test_proba)\n",
    "    precision = precision[:-1]\n",
    "    recall = recall[:-1]\n",
    "    fig=plt.figure()\n",
    "    ax1 = plt.subplot(211)\n",
    "    ax2 = plt.subplot(212)\n",
    "    ax1.hlines(y=0.5,xmin=0, xmax=1, colors='red')\n",
    "    ax1.plot(thresholds,precision)\n",
    "    ax2.plot(thresholds,recall)\n",
    "    ax1.get_shared_x_axes().join(ax1, ax2)\n",
    "    ax1.set_xticklabels([])\n",
    "    plt.xlabel('Threshold')\n",
    "    ax1.set_title('Precision')\n",
    "    ax2.set_title('Recall')\n",
    "    plt.show()\n",
    "\n",
    "    print (\"\"\"\n",
    "\n",
    "    --------\n",
    "\n",
    "    ROC-AUC Curve:\n",
    "    \"\"\")\n",
    "\n",
    "    fpr, tpr, threshold = roc_curve(y_test, y_test_proba)\n",
    "    roc_auc = auc(fpr, tpr)\n",
    "    plt.title(\"Receiver Operating Characteristic\")\n",
    "    plt.plot(fpr, tpr, 'b', label = 'AUC = %0.5f' % roc_auc)\n",
    "    plt.legend(loc = 'lower right')\n",
    "    plt.plot([0, 1], [0, 1],'r--')\n",
    "    plt.xlim([0, 1])\n",
    "    plt.ylim([0, 1])\n",
    "    plt.ylabel('True Positive Rate')\n",
    "    plt.xlabel('False Positive Rate')\n",
    "    plt.show()\n",
    "    \n",
    "    min_index = [i for i, prec in enumerate(precision) if prec >= 0.5][0]\n",
    "    f1_score_tresh = 2*((precision[min_index]*recall[min_index])/(precision[min_index]+recall[min_index]))\n",
    "    \n",
    "    print (\"\"\"\n",
    "\n",
    "    --------\n",
    "\n",
    "    Results for a minimum of 50% in Precision:\n",
    "    Threshold : {}\n",
    "    Precision: {}\n",
    "    Recall: {}\n",
    "    F1_Score: {}\n",
    "    \"\"\".format(round(thresholds[min_index],3), round(precision[min_index],3), round(recall[min_index],3), round(f1_score_tresh,3)))"
   ]
  },
  {
   "cell_type": "code",
   "execution_count": 30,
   "id": "3651c6ce",
   "metadata": {},
   "outputs": [],
   "source": [
    "def run_pipeline(X_train, y_train, X_test, categorical, numerical):\n",
    "\n",
    "    cat_pipe = Pipeline([\n",
    "        ('selector', ColumnSelector(categorical))\n",
    "        ,('transformer',CategoricalTransformer(mininum_records = 250))\n",
    "        ,('imputer', SimpleImputer(missing_values = None, strategy='constant', fill_value='missing'))\n",
    "        ,('encoder', OneHotEncoder(handle_unknown='ignore', sparse=False))\n",
    "    ])\n",
    "\n",
    "    num_pipe = Pipeline([\n",
    "        ('selector', ColumnSelector(numerical))\n",
    "        ,('transformer',NumericalTransformer())\n",
    "        ,('imputer', SimpleImputer(strategy='median'))\n",
    "        ,('scaler', RobustScaler())\n",
    "    ])\n",
    "\n",
    "    pre_processor = FeatureUnion([\n",
    "        ('cat', cat_pipe)\n",
    "        ,('num', num_pipe)\n",
    "    ])\n",
    "\n",
    "    pipeline = Pipeline([\n",
    "        ('preprocessor', pre_processor)\n",
    "        ,('model', XGBClassifier())\n",
    "    ])\n",
    "\n",
    "    pipeline.fit(X_train, y_train)\n",
    "\n",
    "    y_test_pred = pipeline.predict(X_test)\n",
    "    y_test_proba = pipeline.predict_proba(X_test)[:,1]\n",
    "\n",
    "    return y_test_pred, y_test_proba"
   ]
  },
  {
   "cell_type": "code",
   "execution_count": 27,
   "id": "21689b47",
   "metadata": {},
   "outputs": [
    {
     "name": "stdout",
     "output_type": "stream",
     "text": [
      "Estimate: 15.592\n"
     ]
    }
   ],
   "source": [
    "counter = Counter(y_test)\n",
    "# estimate scale_pos_weight value\n",
    "estimate = counter[0] / counter[1]\n",
    "print('Estimate: %.3f' % estimate)"
   ]
  },
  {
   "cell_type": "code",
   "execution_count": 10,
   "id": "5445f607",
   "metadata": {},
   "outputs": [],
   "source": [
    "def test_pipelines(X_train, y_train, X_test, pipelines):\n",
    "    for pipeline in pipelines:\n",
    "        y_test_pred, y_test_proba = run_pipeline(X_train, y_train, X_test, pipeline['categorical'], pipeline['numerical'])\n",
    "        print(\"Pipeline :{}\".format(pipeline['id']))\n",
    "        result_metrics(y_test, y_test_pred, y_test_proba)"
   ]
  },
  {
   "cell_type": "code",
   "execution_count": 16,
   "id": "75344147",
   "metadata": {},
   "outputs": [],
   "source": [
    "pipeline_1 = {\n",
    "    'id':1\n",
    "    ,'categorical':['diag_2','diag_3','weight','race','admission_source_code','discharge_disposition_code','admission_type_code','medical_specialty','insulin','change','gender','diag_1','A1Cresult','max_glu_serum','diabetesMed','has_prosthesis','blood_transfusion','diuretics','payer_code','complete_vaccination_status','blood_type','age']\n",
    "    ,'numerical': ['num_medications','hemoglobin_level','time_in_hospital','num_lab_procedures','num_procedures','number_outpatient','number_emergency','number_inpatient','number_diagnoses']}\n",
    "\n",
    "pipeline_2 = {\n",
    "    'id':2 \n",
    "    ,'categorical':['diabetesMed','blood_transfusion','admission_source_code','discharge_disposition_code','admission_type_code','payer_code','complete_vaccination_status','blood_type','max_glu_serum','A1Cresult','age','gender','medical_specialty']\n",
    "    ,'numerical': ['time_in_hospital','num_lab_procedures','num_procedures','number_outpatient','number_emergency','number_inpatient','number_diagnoses','hemoglobin_level']}\n",
    "\n",
    "\n",
    "pipelines = [pipeline_1, pipeline_2]\n"
   ]
  },
  {
   "cell_type": "code",
   "execution_count": 31,
   "id": "a12325a0",
   "metadata": {
    "scrolled": false
   },
   "outputs": [
    {
     "name": "stderr",
     "output_type": "stream",
     "text": [
      "/Users/tiagosousa/.virtualenvs/capstone-project/lib/python3.7/site-packages/xgboost/sklearn.py:1224: UserWarning: The use of label encoder in XGBClassifier is deprecated and will be removed in a future release. To remove this warning, do the following: 1) Pass option use_label_encoder=False when constructing XGBClassifier object; and 2) Encode your labels (y) as integers starting with 0, i.e. 0, 1, 2, ..., [num_class - 1].\n",
      "  warnings.warn(label_encoder_deprecation_msg, UserWarning)\n"
     ]
    },
    {
     "name": "stdout",
     "output_type": "stream",
     "text": [
      "[02:19:25] WARNING: /Users/runner/work/xgboost/xgboost/src/learner.cc:1115: Starting in XGBoost 1.3.0, the default evaluation metric used with the objective 'binary:logistic' was changed from 'error' to 'logloss'. Explicitly set eval_metric if you'd like to restore the old behavior.\n",
      "Pipeline :1\n",
      "Key Metrics:\n",
      "\n",
      "    Precision : 0.333 \n",
      "    Accuracy: 0.939  \n",
      "    Recall: 0.011 \n",
      "    ROC-AUC: 0.505\n",
      "    F1 Score: 0.022\n",
      "\n",
      "    -------------\n",
      "\n",
      "    Recall vs Precision Tresholds:\n",
      "    \n"
     ]
    },
    {
     "data": {
      "image/png": "[encoded data removed]",
      "text/plain": [
       "<Figure size 432x288 with 2 Axes>"
      ]
     },
     "metadata": {
      "needs_background": "light"
     },
     "output_type": "display_data"
    },
    {
     "name": "stdout",
     "output_type": "stream",
     "text": [
      "\n",
      "\n",
      "    --------\n",
      "\n",
      "    ROC-AUC Curve:\n",
      "    \n"
     ]
    },
    {
     "data": {
      "image/png": "[encoded data removed]",
      "text/plain": [
       "<Figure size 432x288 with 1 Axes>"
      ]
     },
     "metadata": {
      "needs_background": "light"
     },
     "output_type": "display_data"
    },
    {
     "name": "stdout",
     "output_type": "stream",
     "text": [
      "\n",
      "\n",
      "    --------\n",
      "\n",
      "    Results for a minimum of 50% in Precision:\n",
      "    Threshold : 0.8100000023841858\n",
      "    Precision: 0.5\n",
      "    Recall: 0.002\n",
      "    F1_Score: 0.004\n",
      "    \n"
     ]
    },
    {
     "name": "stderr",
     "output_type": "stream",
     "text": [
      "/Users/tiagosousa/.virtualenvs/capstone-project/lib/python3.7/site-packages/xgboost/sklearn.py:1224: UserWarning: The use of label encoder in XGBClassifier is deprecated and will be removed in a future release. To remove this warning, do the following: 1) Pass option use_label_encoder=False when constructing XGBClassifier object; and 2) Encode your labels (y) as integers starting with 0, i.e. 0, 1, 2, ..., [num_class - 1].\n",
      "  warnings.warn(label_encoder_deprecation_msg, UserWarning)\n"
     ]
    },
    {
     "name": "stdout",
     "output_type": "stream",
     "text": [
      "[02:19:44] WARNING: /Users/runner/work/xgboost/xgboost/src/learner.cc:1115: Starting in XGBoost 1.3.0, the default evaluation metric used with the objective 'binary:logistic' was changed from 'error' to 'logloss'. Explicitly set eval_metric if you'd like to restore the old behavior.\n",
      "Pipeline :2\n",
      "Key Metrics:\n",
      "\n",
      "    Precision : 0.25 \n",
      "    Accuracy: 0.938  \n",
      "    Recall: 0.01 \n",
      "    ROC-AUC: 0.504\n",
      "    F1 Score: 0.02\n",
      "\n",
      "    -------------\n",
      "\n",
      "    Recall vs Precision Tresholds:\n",
      "    \n"
     ]
    },
    {
     "data": {
      "image/png": "[encoded data removed]",
      "text/plain": [
       "<Figure size 432x288 with 2 Axes>"
      ]
     },
     "metadata": {
      "needs_background": "light"
     },
     "output_type": "display_data"
    },
    {
     "name": "stdout",
     "output_type": "stream",
     "text": [
      "\n",
      "\n",
      "    --------\n",
      "\n",
      "    ROC-AUC Curve:\n",
      "    \n"
     ]
    },
    {
     "data": {
      "image/png": "[encoded data removed]",
      "text/plain": [
       "<Figure size 432x288 with 1 Axes>"
      ]
     },
     "metadata": {
      "needs_background": "light"
     },
     "output_type": "display_data"
    },
    {
     "ename": "IndexError",
     "evalue": "list index out of range",
     "output_type": "error",
     "traceback": [
      "\u001b[0;31m---------------------------------------------------------------------------\u001b[0m",
      "\u001b[0;31mIndexError\u001b[0m                                Traceback (most recent call last)",
      "\u001b[0;32m/var/folders/p1/d2wfyr5s0c56bc80hh1txqd40000gn/T/ipykernel_9050/2419397852.py\u001b[0m in \u001b[0;36m<module>\u001b[0;34m\u001b[0m\n\u001b[0;32m----> 1\u001b[0;31m \u001b[0mtest_pipelines\u001b[0m\u001b[0;34m(\u001b[0m\u001b[0mX_train\u001b[0m\u001b[0;34m,\u001b[0m \u001b[0my_train\u001b[0m\u001b[0;34m,\u001b[0m \u001b[0mX_test\u001b[0m\u001b[0;34m,\u001b[0m \u001b[0mpipelines\u001b[0m\u001b[0;34m)\u001b[0m\u001b[0;34m\u001b[0m\u001b[0;34m\u001b[0m\u001b[0m\n\u001b[0m",
      "\u001b[0;32m/var/folders/p1/d2wfyr5s0c56bc80hh1txqd40000gn/T/ipykernel_9050/4150056433.py\u001b[0m in \u001b[0;36mtest_pipelines\u001b[0;34m(X_train, y_train, X_test, pipelines)\u001b[0m\n\u001b[1;32m      3\u001b[0m         \u001b[0my_test_pred\u001b[0m\u001b[0;34m,\u001b[0m \u001b[0my_test_proba\u001b[0m \u001b[0;34m=\u001b[0m \u001b[0mrun_pipeline\u001b[0m\u001b[0;34m(\u001b[0m\u001b[0mX_train\u001b[0m\u001b[0;34m,\u001b[0m \u001b[0my_train\u001b[0m\u001b[0;34m,\u001b[0m \u001b[0mX_test\u001b[0m\u001b[0;34m,\u001b[0m \u001b[0mpipeline\u001b[0m\u001b[0;34m[\u001b[0m\u001b[0;34m'categorical'\u001b[0m\u001b[0;34m]\u001b[0m\u001b[0;34m,\u001b[0m \u001b[0mpipeline\u001b[0m\u001b[0;34m[\u001b[0m\u001b[0;34m'numerical'\u001b[0m\u001b[0;34m]\u001b[0m\u001b[0;34m)\u001b[0m\u001b[0;34m\u001b[0m\u001b[0;34m\u001b[0m\u001b[0m\n\u001b[1;32m      4\u001b[0m         \u001b[0mprint\u001b[0m\u001b[0;34m(\u001b[0m\u001b[0;34m\"Pipeline :{}\"\u001b[0m\u001b[0;34m.\u001b[0m\u001b[0mformat\u001b[0m\u001b[0;34m(\u001b[0m\u001b[0mpipeline\u001b[0m\u001b[0;34m[\u001b[0m\u001b[0;34m'id'\u001b[0m\u001b[0;34m]\u001b[0m\u001b[0;34m)\u001b[0m\u001b[0;34m)\u001b[0m\u001b[0;34m\u001b[0m\u001b[0;34m\u001b[0m\u001b[0m\n\u001b[0;32m----> 5\u001b[0;31m         \u001b[0mresult_metrics\u001b[0m\u001b[0;34m(\u001b[0m\u001b[0my_test\u001b[0m\u001b[0;34m,\u001b[0m \u001b[0my_test_pred\u001b[0m\u001b[0;34m,\u001b[0m \u001b[0my_test_proba\u001b[0m\u001b[0;34m)\u001b[0m\u001b[0;34m\u001b[0m\u001b[0;34m\u001b[0m\u001b[0m\n\u001b[0m",
      "\u001b[0;32m/var/folders/p1/d2wfyr5s0c56bc80hh1txqd40000gn/T/ipykernel_9050/3171132486.py\u001b[0m in \u001b[0;36mresult_metrics\u001b[0;34m(y_test, y_test_pred, y_test_proba)\u001b[0m\n\u001b[1;32m     57\u001b[0m     \u001b[0mplt\u001b[0m\u001b[0;34m.\u001b[0m\u001b[0mshow\u001b[0m\u001b[0;34m(\u001b[0m\u001b[0;34m)\u001b[0m\u001b[0;34m\u001b[0m\u001b[0;34m\u001b[0m\u001b[0m\n\u001b[1;32m     58\u001b[0m \u001b[0;34m\u001b[0m\u001b[0m\n\u001b[0;32m---> 59\u001b[0;31m     \u001b[0mmin_index\u001b[0m \u001b[0;34m=\u001b[0m \u001b[0;34m[\u001b[0m\u001b[0mi\u001b[0m \u001b[0;32mfor\u001b[0m \u001b[0mi\u001b[0m\u001b[0;34m,\u001b[0m \u001b[0mprec\u001b[0m \u001b[0;32min\u001b[0m \u001b[0menumerate\u001b[0m\u001b[0;34m(\u001b[0m\u001b[0mprecision\u001b[0m\u001b[0;34m)\u001b[0m \u001b[0;32mif\u001b[0m \u001b[0mprec\u001b[0m \u001b[0;34m>=\u001b[0m \u001b[0;36m0.5\u001b[0m\u001b[0;34m]\u001b[0m\u001b[0;34m[\u001b[0m\u001b[0;36m0\u001b[0m\u001b[0;34m]\u001b[0m\u001b[0;34m\u001b[0m\u001b[0;34m\u001b[0m\u001b[0m\n\u001b[0m\u001b[1;32m     60\u001b[0m     \u001b[0mf1_score_tresh\u001b[0m \u001b[0;34m=\u001b[0m \u001b[0;36m2\u001b[0m\u001b[0;34m*\u001b[0m\u001b[0;34m(\u001b[0m\u001b[0;34m(\u001b[0m\u001b[0mprecision\u001b[0m\u001b[0;34m[\u001b[0m\u001b[0mmin_index\u001b[0m\u001b[0;34m]\u001b[0m\u001b[0;34m*\u001b[0m\u001b[0mrecall\u001b[0m\u001b[0;34m[\u001b[0m\u001b[0mmin_index\u001b[0m\u001b[0;34m]\u001b[0m\u001b[0;34m)\u001b[0m\u001b[0;34m/\u001b[0m\u001b[0;34m(\u001b[0m\u001b[0mprecision\u001b[0m\u001b[0;34m[\u001b[0m\u001b[0mmin_index\u001b[0m\u001b[0;34m]\u001b[0m\u001b[0;34m+\u001b[0m\u001b[0mrecall\u001b[0m\u001b[0;34m[\u001b[0m\u001b[0mmin_index\u001b[0m\u001b[0;34m]\u001b[0m\u001b[0;34m)\u001b[0m\u001b[0;34m)\u001b[0m\u001b[0;34m\u001b[0m\u001b[0;34m\u001b[0m\u001b[0m\n\u001b[1;32m     61\u001b[0m \u001b[0;34m\u001b[0m\u001b[0m\n",
      "\u001b[0;31mIndexError\u001b[0m: list index out of range"
     ]
    }
   ],
   "source": [
    "test_pipelines(X_train, y_train, X_test, pipelines)"
   ]
  },
  {
   "cell_type": "code",
   "execution_count": null,
   "id": "6d55d725",
   "metadata": {},
   "outputs": [],
   "source": [
    "data = {'y_Actual':    y_test,\n",
    "        'y_Predicted': [1 if i >= 0.3 else 0 for i in pipeline.predict_proba(X_test)[:,1]]  \n",
    "        }\n",
    "\n",
    "df = pd.DataFrame(data, columns=['y_Actual','y_Predicted'])\n",
    "confusion_matrix = pd.crosstab(df['y_Actual'], df['y_Predicted'], rownames=['Actual'], colnames=['Predicted'])\n",
    "\n",
    "sn.heatmap(confusion_matrix, annot=True)\n",
    "plt.show()"
   ]
  },
  {
   "cell_type": "markdown",
   "id": "7648b293",
   "metadata": {},
   "source": [
    "# Model\n"
   ]
  },
  {
   "cell_type": "code",
   "execution_count": null,
   "id": "e5ac48d0",
   "metadata": {},
   "outputs": [],
   "source": [
    "TMP_DIR = '/tmp'"
   ]
  },
  {
   "cell_type": "code",
   "execution_count": null,
   "id": "dbdd8509",
   "metadata": {},
   "outputs": [],
   "source": [
    "with open(\"columns.json\", 'w') as fh:\n",
    "    json.dump(df_original.columns.tolist(), fh)\n",
    "\n",
    "with open(\"dtypes.pickle\", 'wb') as fh:\n",
    "    pickle.dump(df_original.dtypes, fh)\n",
    "    \n",
    "joblib.dump(pipeline, 'pipeline.pickle') "
   ]
  }
 ],
 "metadata": {
  "kernelspec": {
   "display_name": "Python 3 (ipykernel)",
   "language": "python",
   "name": "python3"
  },
  "language_info": {
   "codemirror_mode": {
    "name": "ipython",
    "version": 3
   },
   "file_extension": ".py",
   "mimetype": "text/x-python",
   "name": "python",
   "nbconvert_exporter": "python",
   "pygments_lexer": "ipython3",
   "version": "3.7.12"
  }
 },
 "nbformat": 4,
 "nbformat_minor": 5
}
