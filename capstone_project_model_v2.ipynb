{
 "cells": [
  {
   "cell_type": "markdown",
   "id": "01de3958",
   "metadata": {},
   "source": [
    "# Setup"
   ]
  },
  {
   "cell_type": "markdown",
   "id": "08b228be",
   "metadata": {},
   "source": [
    "## Imports"
   ]
  },
  {
   "cell_type": "code",
   "execution_count": 112,
   "id": "9e561a24",
   "metadata": {},
   "outputs": [
    {
     "ename": "ImportError",
     "evalue": "cannot import name 'safe_indexing' from 'sklearn.utils' (/Users/tiagosousa/.virtualenvs/capstone-project/lib/python3.7/site-packages/sklearn/utils/__init__.py)",
     "output_type": "error",
     "traceback": [
      "\u001b[0;31m---------------------------------------------------------------------------\u001b[0m",
      "\u001b[0;31mImportError\u001b[0m                               Traceback (most recent call last)",
      "\u001b[0;32m/var/folders/p1/d2wfyr5s0c56bc80hh1txqd40000gn/T/ipykernel_24299/3840165017.py\u001b[0m in \u001b[0;36m<module>\u001b[0;34m\u001b[0m\n\u001b[1;32m     32\u001b[0m \u001b[0;31m#Model tuning\u001b[0m\u001b[0;34m\u001b[0m\u001b[0;34m\u001b[0m\u001b[0;34m\u001b[0m\u001b[0m\n\u001b[1;32m     33\u001b[0m \u001b[0;31m#from sklego.meta import Thresholder\u001b[0m\u001b[0;34m\u001b[0m\u001b[0;34m\u001b[0m\u001b[0;34m\u001b[0m\u001b[0m\n\u001b[0;32m---> 34\u001b[0;31m \u001b[0;32mfrom\u001b[0m \u001b[0myellowbrick\u001b[0m\u001b[0;34m.\u001b[0m\u001b[0mclassifier\u001b[0m \u001b[0;32mimport\u001b[0m \u001b[0mDiscriminationThreshold\u001b[0m\u001b[0;34m\u001b[0m\u001b[0;34m\u001b[0m\u001b[0m\n\u001b[0m",
      "\u001b[0;32m~/.virtualenvs/capstone-project/lib/python3.7/site-packages/yellowbrick/__init__.py\u001b[0m in \u001b[0;36m<module>\u001b[0;34m\u001b[0m\n\u001b[1;32m     37\u001b[0m \u001b[0;32mfrom\u001b[0m \u001b[0;34m.\u001b[0m\u001b[0manscombe\u001b[0m \u001b[0;32mimport\u001b[0m \u001b[0manscombe\u001b[0m\u001b[0;34m\u001b[0m\u001b[0;34m\u001b[0m\u001b[0m\n\u001b[1;32m     38\u001b[0m \u001b[0;32mfrom\u001b[0m \u001b[0;34m.\u001b[0m\u001b[0mdatasaurus\u001b[0m \u001b[0;32mimport\u001b[0m \u001b[0mdatasaurus\u001b[0m\u001b[0;34m\u001b[0m\u001b[0;34m\u001b[0m\u001b[0m\n\u001b[0;32m---> 39\u001b[0;31m \u001b[0;32mfrom\u001b[0m \u001b[0;34m.\u001b[0m\u001b[0mclassifier\u001b[0m \u001b[0;32mimport\u001b[0m \u001b[0mROCAUC\u001b[0m\u001b[0;34m,\u001b[0m \u001b[0mClassBalance\u001b[0m\u001b[0;34m,\u001b[0m \u001b[0mClassificationScoreVisualizer\u001b[0m\u001b[0;34m\u001b[0m\u001b[0;34m\u001b[0m\u001b[0m\n\u001b[0m\u001b[1;32m     40\u001b[0m \u001b[0;34m\u001b[0m\u001b[0m\n\u001b[1;32m     41\u001b[0m \u001b[0;31m# from .classifier import crplot, rocplot\u001b[0m\u001b[0;34m\u001b[0m\u001b[0;34m\u001b[0m\u001b[0;34m\u001b[0m\u001b[0m\n",
      "\u001b[0;32m~/.virtualenvs/capstone-project/lib/python3.7/site-packages/yellowbrick/classifier/__init__.py\u001b[0m in \u001b[0;36m<module>\u001b[0;34m\u001b[0m\n\u001b[1;32m     28\u001b[0m \u001b[0;32mfrom\u001b[0m \u001b[0;34m.\u001b[0m\u001b[0mconfusion_matrix\u001b[0m \u001b[0;32mimport\u001b[0m \u001b[0mConfusionMatrix\u001b[0m\u001b[0;34m,\u001b[0m \u001b[0mconfusion_matrix\u001b[0m\u001b[0;34m\u001b[0m\u001b[0;34m\u001b[0m\u001b[0m\n\u001b[1;32m     29\u001b[0m \u001b[0;32mfrom\u001b[0m \u001b[0;34m.\u001b[0m\u001b[0mrocauc\u001b[0m \u001b[0;32mimport\u001b[0m \u001b[0mROCAUC\u001b[0m\u001b[0;34m,\u001b[0m \u001b[0mroc_auc\u001b[0m\u001b[0;34m\u001b[0m\u001b[0;34m\u001b[0m\u001b[0m\n\u001b[0;32m---> 30\u001b[0;31m \u001b[0;32mfrom\u001b[0m \u001b[0;34m.\u001b[0m\u001b[0mthreshold\u001b[0m \u001b[0;32mimport\u001b[0m \u001b[0mDiscriminationThreshold\u001b[0m\u001b[0;34m,\u001b[0m \u001b[0mdiscrimination_threshold\u001b[0m\u001b[0;34m\u001b[0m\u001b[0;34m\u001b[0m\u001b[0m\n\u001b[0m\u001b[1;32m     31\u001b[0m \u001b[0;32mfrom\u001b[0m \u001b[0;34m.\u001b[0m\u001b[0mprcurve\u001b[0m \u001b[0;32mimport\u001b[0m \u001b[0mPrecisionRecallCurve\u001b[0m\u001b[0;34m,\u001b[0m \u001b[0mPRCurve\u001b[0m\u001b[0;34m,\u001b[0m \u001b[0mprecision_recall_curve\u001b[0m\u001b[0;34m\u001b[0m\u001b[0;34m\u001b[0m\u001b[0m\n\u001b[1;32m     32\u001b[0m \u001b[0;34m\u001b[0m\u001b[0m\n",
      "\u001b[0;32m~/.virtualenvs/capstone-project/lib/python3.7/site-packages/yellowbrick/classifier/threshold.py\u001b[0m in \u001b[0;36m<module>\u001b[0;34m\u001b[0m\n\u001b[1;32m     28\u001b[0m \u001b[0;32mfrom\u001b[0m \u001b[0msklearn\u001b[0m\u001b[0;34m.\u001b[0m\u001b[0mmodel_selection\u001b[0m \u001b[0;32mimport\u001b[0m \u001b[0mShuffleSplit\u001b[0m\u001b[0;34m\u001b[0m\u001b[0;34m\u001b[0m\u001b[0m\n\u001b[1;32m     29\u001b[0m \u001b[0;32mfrom\u001b[0m \u001b[0msklearn\u001b[0m\u001b[0;34m.\u001b[0m\u001b[0mmetrics\u001b[0m \u001b[0;32mimport\u001b[0m \u001b[0mprecision_recall_curve\u001b[0m\u001b[0;34m\u001b[0m\u001b[0;34m\u001b[0m\u001b[0m\n\u001b[0;32m---> 30\u001b[0;31m \u001b[0;32mfrom\u001b[0m \u001b[0msklearn\u001b[0m\u001b[0;34m.\u001b[0m\u001b[0mutils\u001b[0m \u001b[0;32mimport\u001b[0m \u001b[0mindexable\u001b[0m\u001b[0;34m,\u001b[0m \u001b[0msafe_indexing\u001b[0m\u001b[0;34m\u001b[0m\u001b[0;34m\u001b[0m\u001b[0m\n\u001b[0m\u001b[1;32m     31\u001b[0m \u001b[0;32mfrom\u001b[0m \u001b[0msklearn\u001b[0m\u001b[0;34m.\u001b[0m\u001b[0mutils\u001b[0m\u001b[0;34m.\u001b[0m\u001b[0mmulticlass\u001b[0m \u001b[0;32mimport\u001b[0m \u001b[0mtype_of_target\u001b[0m\u001b[0;34m\u001b[0m\u001b[0;34m\u001b[0m\u001b[0m\n\u001b[1;32m     32\u001b[0m \u001b[0;34m\u001b[0m\u001b[0m\n",
      "\u001b[0;31mImportError\u001b[0m: cannot import name 'safe_indexing' from 'sklearn.utils' (/Users/tiagosousa/.virtualenvs/capstone-project/lib/python3.7/site-packages/sklearn/utils/__init__.py)"
     ]
    }
   ],
   "source": [
    "# Setup\n",
    "import os\n",
    "import joblib\n",
    "import pickle\n",
    "import json\n",
    "from utils.custom_transformers import ColumnSelector, CategoricalTransformer, SaveTransformer, NumericalTransformer\n",
    "from collections import Counter\n",
    "\n",
    "# Data Analysis\n",
    "import pandas as pd\n",
    "import numpy as np\n",
    "from pandas_profiling import ProfileReport\n",
    "import matplotlib.pyplot as plt\n",
    "import seaborn as sn\n",
    "\n",
    "#Scikit learn\n",
    "from lightgbm import LGBMClassifier\n",
    "from category_encoders import TargetEncoder\n",
    "from sklearn.base import BaseEstimator, TransformerMixin\n",
    "from sklearn.compose import ColumnTransformer\n",
    "from sklearn.model_selection import train_test_split, RepeatedStratifiedKFold, cross_val_score\n",
    "from sklearn.pipeline import make_pipeline, Pipeline, FeatureUnion\n",
    "from sklearn.base import BaseEstimator, TransformerMixin\n",
    "from sklearn.preprocessing import OneHotEncoder, MinMaxScaler, RobustScaler\n",
    "from sklearn.impute import SimpleImputer\n",
    "from sklearn.linear_model import LogisticRegression\n",
    "from sklearn.ensemble import RandomForestClassifier, GradientBoostingClassifier\n",
    "from sklearn.metrics import f1_score, auc, roc_curve, precision_recall_curve, precision_score, accuracy_score, precision_recall_fscore_support, auc, recall_score, roc_auc_score\n",
    "from xgboost import XGBClassifier\n",
    "from sklearn.metrics import ConfusionMatrixDisplay\n",
    "\n",
    "#Model tuning\n",
    "#from sklego.meta import Thresholder\n",
    "#from yellowbrick.classifier import DiscriminationThreshold\n"
   ]
  },
  {
   "cell_type": "markdown",
   "id": "955ced90",
   "metadata": {},
   "source": [
    "## Configs"
   ]
  },
  {
   "cell_type": "code",
   "execution_count": 5,
   "id": "c21a2511",
   "metadata": {},
   "outputs": [],
   "source": [
    "%matplotlib inline\n",
    "pd.set_option('display.max_columns', None)\n",
    "seed = 42"
   ]
  },
  {
   "cell_type": "markdown",
   "id": "0ee92fb6",
   "metadata": {},
   "source": [
    "## Functions"
   ]
  },
  {
   "cell_type": "code",
   "execution_count": 6,
   "id": "236c6a62",
   "metadata": {},
   "outputs": [],
   "source": [
    "def load_data(file_name, folder = \"data\"):\n",
    "    df = pd.read_csv(os.path.join(folder, file_name))\n",
    "    return df\n",
    "\n",
    "def target_transformation(text):\n",
    "    text = text.replace(\" \", \"\").lower()\n",
    "    if text == \"yes\" :\n",
    "        return 1\n",
    "    elif text == \"no\":\n",
    "        return 0"
   ]
  },
  {
   "cell_type": "markdown",
   "id": "21c76eaa",
   "metadata": {},
   "source": [
    "# Data Analysis"
   ]
  },
  {
   "cell_type": "markdown",
   "id": "31f7bd64",
   "metadata": {},
   "source": [
    "## Data Load"
   ]
  },
  {
   "cell_type": "code",
   "execution_count": 7,
   "id": "9b982636",
   "metadata": {},
   "outputs": [],
   "source": [
    "df_original = load_data(\"train_data.csv\",\"data\")"
   ]
  },
  {
   "cell_type": "code",
   "execution_count": null,
   "id": "f61a5523",
   "metadata": {},
   "outputs": [],
   "source": [
    "patient_list = set(df_original['patient_id'])\n",
    "patients_to_remove = []\n",
    "for patient_id in patient_list:\n",
    "    data = df_original[df_original['patient_id']==patient_id]\n",
    "    distinct_gender = data['gender'].nunique()\n",
    "    distinct_blood_type = data['blood_type'].nunique()\n",
    "    if distinct_gender > 1 or distinct_blood_type > 1:\n",
    "        patients_to_remove.append(patient_id)\n",
    "        \n",
    "df_original_filtered = df_original.copy()\n",
    "df_original_filtered = df_original_filtered.loc[~df_original_filtered['patient_id'].isin(patients_to_remove)]"
   ]
  },
  {
   "cell_type": "markdown",
   "id": "68e94900",
   "metadata": {},
   "source": [
    "# Pipelines"
   ]
  },
  {
   "cell_type": "markdown",
   "id": "5670266a",
   "metadata": {},
   "source": [
    "## Custom Transformers"
   ]
  },
  {
   "cell_type": "code",
   "execution_count": 102,
   "id": "c6c3adef",
   "metadata": {},
   "outputs": [],
   "source": [
    "X_train, X_test, y_train, y_test = train_test_split(df_original.drop(columns=['readmitted']), \n",
    "                                                    df_original['readmitted'],\n",
    "                                                    shuffle = True,\n",
    "                                                    test_size=0.2,\n",
    "                                                    stratify = df_original['readmitted'], \n",
    "                                                    random_state=seed)\n",
    "y_train = y_train.apply(target_transformation)\n",
    "y_test = y_test.apply(target_transformation)"
   ]
  },
  {
   "cell_type": "code",
   "execution_count": 119,
   "id": "dca825b9",
   "metadata": {},
   "outputs": [],
   "source": [
    "def result_metrics(y_test, y_test_pred, y_test_proba):\n",
    "\n",
    "    precision_s = precision_score (y_test,y_test_pred )\n",
    "    accuracy_s = accuracy_score (y_test,y_test_pred )\n",
    "    recall_s = recall_score (y_test,y_test_pred )\n",
    "    roc_auc_s = roc_auc_score(y_test,y_test_pred )\n",
    "    f1_s = f1_score(y_test,y_test_pred )\n",
    "\n",
    "    print(\n",
    "    \"\"\"Key Metrics:\n",
    "\n",
    "    Precision : {} \n",
    "    Accuracy: {}  \n",
    "    Recall: {} \n",
    "    ROC-AUC: {}\n",
    "    F1 Score: {}\"\"\".format(round(precision_s,3),round(accuracy_s,3) ,round(recall_s,3) ,round(roc_auc_s,3),round(f1_s,3) ))\n",
    "\n",
    "    \n",
    "    print(\"\"\"\n",
    "    \n",
    "    --------\n",
    "    Confusion Matrix\n",
    "    \n",
    "    \"\"\")\n",
    "    \n",
    "    ConfusionMatrixDisplay.from_predictions(y_test, y_test_pred)\n",
    "    plt.show()\n",
    "    \n",
    "    print(\"\"\"\n",
    "    -------------\n",
    "\n",
    "    Recall vs Precision Tresholds:\n",
    "    \"\"\")\n",
    "    results = []\n",
    "    precision, recall, thresholds = precision_recall_curve(y_test, y_test_proba)\n",
    "    precision = precision[:-1]\n",
    "    recall = recall[:-1]\n",
    "    results_df = { \"thresholds\": thresholds, \"precision\": precision, \"recall\": recall}\n",
    "    results_df = pd.DataFrame(results_df)\n",
    "    results_df['f1_score'] = 2*((results_df['precision']*results_df['recall'])/(results_df['precision']+results_df['recall']))\n",
    "    fig=plt.figure()\n",
    "    ax1 = plt.subplot(211)\n",
    "    ax2 = plt.subplot(212)\n",
    "    ax1.vlines(x=0.142,ymin=0, ymax=1, colors='red')\n",
    "    ax1.plot(thresholds,precision)\n",
    "    ax2.plot(thresholds,recall)\n",
    "    ax1.get_shared_x_axes().join(ax1, ax2)\n",
    "    ax1.set_xticklabels([])\n",
    "    ax2.vlines(x=0.142,ymin=0, ymax=1, colors='red')\n",
    "    plt.xlabel('Threshold')\n",
    "    ax1.set_title('Precision')\n",
    "    ax2.set_title('Recall')\n",
    "    plt.show()\n",
    "    \n",
    "    print (\"\"\"\n",
    "\n",
    "    --------\n",
    "\n",
    "    ROC-AUC Curve:\n",
    "    \"\"\")\n",
    "\n",
    "    fpr, tpr, threshold = roc_curve(y_test, y_test_proba)\n",
    "    roc_auc = auc(fpr, tpr)\n",
    "    plt.title(\"Receiver Operating Characteristic\")\n",
    "    plt.plot(fpr, tpr, 'b', label = 'AUC = %0.5f' % roc_auc)\n",
    "    plt.legend(loc = 'lower right')\n",
    "    plt.plot([0, 1], [0, 1],'r--')\n",
    "    plt.xlim([0, 1])\n",
    "    plt.ylim([0, 1])\n",
    "    plt.ylabel('True Positive Rate')\n",
    "    plt.xlabel('False Positive Rate')\n",
    "    plt.show()\n",
    "    \n",
    "    min_index = [i for i, f1s in enumerate(results_df['f1_score']) if f1s >= max(results_df['f1_score'])][0]\n",
    "    f1_score_tresh = 2*((precision[min_index]*recall[min_index])/(precision[min_index]+recall[min_index]))\n",
    "    \n",
    "    print (\"\"\"\n",
    "\n",
    "    --------\n",
    "\n",
    "    Results for optimized threshold:\n",
    "    Threshold : {}\n",
    "    Precision: {}\n",
    "    Recall: {}\n",
    "    F1_Score: {}\n",
    "    \"\"\".format(round(results_df['thresholds'][min_index],3), round(results_df['precision'][min_index],3), round(results_df['recall'][min_index],3), round(results_df['f1_score'][min_index],3)))\n",
    "    y_test_proba_pred = [1 if x >= results_df['thresholds'][min_index] else 0 for x in y_test_proba]\n",
    "    print(\"\"\"\n",
    "    \n",
    "    --------\n",
    "    Confusion Matrix on thresholds:\n",
    "    \n",
    "    \"\"\")\n",
    "    \n",
    "    ConfusionMatrixDisplay.from_predictions(y_test, y_test_proba_pred)\n",
    "    plt.show()"
   ]
  },
  {
   "cell_type": "code",
   "execution_count": 125,
   "id": "be460df1",
   "metadata": {},
   "outputs": [],
   "source": [
    "def result_metrics(y_test, y_test_pred, y_test_proba):\n",
    "\n",
    "    precision_s = precision_score (y_test,y_test_pred )\n",
    "    accuracy_s = accuracy_score (y_test,y_test_pred )\n",
    "    recall_s = recall_score (y_test,y_test_pred )\n",
    "    roc_auc_s = roc_auc_score(y_test,y_test_pred )\n",
    "    f1_s = f1_score(y_test,y_test_pred )\n",
    "\n",
    "    print(\n",
    "    \"\"\"Key Metrics:\n",
    "\n",
    "    Precision : {} \n",
    "    Accuracy: {}  \n",
    "    Recall: {} \n",
    "    ROC-AUC: {}\n",
    "    F1 Score: {}\"\"\".format(round(precision_s,3),round(accuracy_s,3) ,round(recall_s,3) ,round(roc_auc_s,3),round(f1_s,3) ))\n",
    "\n",
    "    \n",
    "    print(\"\"\"\n",
    "    \n",
    "    --------\n",
    "    Confusion Matrix\n",
    "    \n",
    "    \"\"\")\n",
    "    \n",
    "    ConfusionMatrixDisplay.from_predictions(y_test, y_test_pred)\n",
    "    plt.show()\n",
    "    \n",
    "    print(\"\"\"\n",
    "    -------------\n",
    "\n",
    "    Recall vs Precision Tresholds:\n",
    "    \"\"\")\n",
    "    results = []\n",
    "    precision, recall, thresholds = precision_recall_curve(y_test, y_test_proba)\n",
    "    precision = precision[:-1]\n",
    "    recall = recall[:-1]\n",
    "    results_df = { \"thresholds\": thresholds, \"precision\": precision, \"recall\": recall}\n",
    "    results_df = pd.DataFrame(results_df)\n",
    "    results_df['f1_score'] = 2*((results_df['precision']*results_df['recall'])/(results_df['precision']+results_df['recall']))\n",
    "    \n",
    "    plt.plot(thresholds,results_df['precision'], label = 'Precision')\n",
    "    plt.plot(thresholds,results_df['recall'], label = 'Recall')\n",
    "    plt.plot(thresholds,results_df['f1_score'], label = 'F1 Score')\n",
    "\n",
    "    plt.axvline(x=0.142, label = 'Optimized Threshold', linestyle='--', color='red')\n",
    "    plt.legend()\n",
    "    plt.show()\n",
    "    \n",
    "    print (\"\"\"\n",
    "\n",
    "    --------\n",
    "\n",
    "    ROC-AUC Curve:\n",
    "    \"\"\")\n",
    "\n",
    "    fpr, tpr, threshold = roc_curve(y_test, y_test_proba)\n",
    "    roc_auc = auc(fpr, tpr)\n",
    "    plt.title(\"Receiver Operating Characteristic\")\n",
    "    plt.plot(fpr, tpr, 'b', label = 'AUC = %0.5f' % roc_auc)\n",
    "    plt.legend(loc = 'lower right')\n",
    "    plt.plot([0, 1], [0, 1],'r--')\n",
    "    plt.xlim([0, 1])\n",
    "    plt.ylim([0, 1])\n",
    "    plt.ylabel('True Positive Rate')\n",
    "    plt.xlabel('False Positive Rate')\n",
    "    plt.show()\n",
    "    \n",
    "    min_index = [i for i, f1s in enumerate(results_df['f1_score']) if f1s >= max(results_df['f1_score'])][0]\n",
    "    f1_score_tresh = 2*((precision[min_index]*recall[min_index])/(precision[min_index]+recall[min_index]))\n",
    "    \n",
    "    print (\"\"\"\n",
    "\n",
    "    --------\n",
    "\n",
    "    Results for optimized threshold:\n",
    "    Threshold : {}\n",
    "    Precision: {}\n",
    "    Recall: {}\n",
    "    F1_Score: {}\n",
    "    \"\"\".format(round(results_df['thresholds'][min_index],3), round(results_df['precision'][min_index],3), round(results_df['recall'][min_index],3), round(results_df['f1_score'][min_index],3)))\n",
    "    y_test_proba_pred = [1 if x >= results_df['thresholds'][min_index] else 0 for x in y_test_proba]\n",
    "    print(\"\"\"\n",
    "    \n",
    "    --------\n",
    "    Confusion Matrix on thresholds:\n",
    "    \n",
    "    \"\"\")\n",
    "    \n",
    "    ConfusionMatrixDisplay.from_predictions(y_test, y_test_proba_pred)\n",
    "    plt.show()"
   ]
  },
  {
   "cell_type": "code",
   "execution_count": 12,
   "id": "3651c6ce",
   "metadata": {},
   "outputs": [],
   "source": [
    "def run_pipeline(X_train, y_train, X_test, categorical, numerical, estimator):\n",
    "\n",
    "    cat_pipe = Pipeline([\n",
    "        ('selector', ColumnSelector(categorical))\n",
    "        ,('transformer',CategoricalTransformer(mininum_records = 250))\n",
    "        ,('imputer', SimpleImputer(missing_values = None, strategy='constant', fill_value='missing'))\n",
    "        ,('encoder', OneHotEncoder(handle_unknown='ignore', sparse=False))\n",
    "    ])\n",
    "\n",
    "    num_pipe = Pipeline([\n",
    "        ('selector', ColumnSelector(numerical))\n",
    "        ,('transformer',NumericalTransformer())\n",
    "        ,('imputer', SimpleImputer(strategy='median'))\n",
    "        ,('scaler', RobustScaler())\n",
    "    ])\n",
    "\n",
    "    pre_processor = FeatureUnion([\n",
    "        ('cat', cat_pipe)\n",
    "        ,('num', num_pipe)\n",
    "    ])\n",
    "\n",
    "    pipeline = Pipeline([\n",
    "        ('preprocessor', pre_processor)\n",
    "        ,('model',estimator )\n",
    "    ])\n",
    "\n",
    "    pipeline.fit(X_train, y_train)\n",
    "\n",
    "    y_test_pred = pipeline.predict(X_test)\n",
    "    y_test_proba = pipeline.predict_proba(X_test)[:,1]\n",
    "\n",
    "    return y_test_pred, y_test_proba"
   ]
  },
  {
   "cell_type": "code",
   "execution_count": 13,
   "id": "5445f607",
   "metadata": {},
   "outputs": [],
   "source": [
    "def test_pipelines(X_train, y_train, X_test, pipelines):\n",
    "    for pipeline in pipelines:\n",
    "        df = pipeline['data']\n",
    "        X_train, X_test, y_train, y_test = train_test_split(df.drop(columns=['readmitted']), \n",
    "                                                    df['readmitted'],\n",
    "                                                    shuffle = True,\n",
    "                                                    test_size=0.3,\n",
    "                                                    stratify = df['readmitted'], \n",
    "                                                    random_state=seed)\n",
    "        y_train = y_train.apply(target_transformation)\n",
    "        y_test = y_test.apply(target_transformation)        \n",
    "        y_test_pred, y_test_proba = run_pipeline(X_train, y_train, X_test, pipeline['categorical'], pipeline['numerical'], pipeline['estimator'])\n",
    "        print(\"Pipeline :{}\".format(pipeline['id']))\n",
    "        result_metrics(y_test, y_test_pred, y_test_proba)\n",
    "        "
   ]
  },
  {
   "cell_type": "code",
   "execution_count": 103,
   "id": "75344147",
   "metadata": {},
   "outputs": [],
   "source": [
    "pipeline_1 = {\n",
    "    'id':1\n",
    "    ,'data': df_original\n",
    "    ,'estimator': GradientBoostingClassifier(random_state=seed)\n",
    "    ,'categorical':['diag_2','diag_3','weight','race','admission_source_code','discharge_disposition_code','admission_type_code','medical_specialty','insulin','change','gender','diag_1','A1Cresult','max_glu_serum','diabetesMed','has_prosthesis','blood_transfusion','diuretics','payer_code','complete_vaccination_status','blood_type','age']\n",
    "    ,'numerical': ['num_medications','hemoglobin_level','time_in_hospital','num_lab_procedures','num_procedures','number_outpatient','number_emergency','number_inpatient','number_diagnoses']}\n",
    "\n",
    "pipeline_2 = {\n",
    "    'id':2 \n",
    "    ,'data': df_original\n",
    "    ,'estimator': GradientBoostingClassifier(random_state=seed)\n",
    "    ,'categorical':['diabetesMed','blood_transfusion','admission_source_code','discharge_disposition_code','admission_type_code','payer_code','complete_vaccination_status','blood_type','max_glu_serum','A1Cresult','age','gender','medical_specialty', 'diag_1']\n",
    "    ,'numerical': ['time_in_hospital','num_lab_procedures','num_procedures','number_outpatient','number_emergency','number_inpatient','number_diagnoses','hemoglobin_level']}\n",
    "\n",
    "pipeline_3 = {\n",
    "    'id':3 \n",
    "    ,'data': df_original\n",
    "    ,'estimator': GradientBoostingClassifier(random_state=seed)\n",
    "    ,'categorical':['diabetesMed','blood_transfusion','discharge_disposition_code','admission_type_code','payer_code','complete_vaccination_status','blood_type','max_glu_serum','A1Cresult','age','gender','medical_specialty', 'diag_1']\n",
    "    ,'numerical': ['time_in_hospital','num_lab_procedures','num_procedures','number_outpatient','number_emergency','number_inpatient','number_diagnoses','hemoglobin_level']}\n",
    "\n",
    "\n",
    "pipelines = [pipeline_2]\n",
    "#Best in Pipeline 2"
   ]
  },
  {
   "cell_type": "code",
   "execution_count": 126,
   "id": "a12325a0",
   "metadata": {
    "scrolled": false
   },
   "outputs": [
    {
     "name": "stdout",
     "output_type": "stream",
     "text": [
      "Pipeline :2\n",
      "Key Metrics:\n",
      "\n",
      "    Precision : 0.533 \n",
      "    Accuracy: 0.889  \n",
      "    Recall: 0.009 \n",
      "    ROC-AUC: 0.504\n",
      "    F1 Score: 0.017\n",
      "\n",
      "    \n",
      "    --------\n",
      "    Confusion Matrix\n",
      "    \n",
      "    \n"
     ]
    },
    {
     "data": {
      "image/png": "[encoded data removed]",
      "text/plain": [
       "<Figure size 432x288 with 2 Axes>"
      ]
     },
     "metadata": {
      "needs_background": "light"
     },
     "output_type": "display_data"
    },
    {
     "name": "stdout",
     "output_type": "stream",
     "text": [
      "\n",
      "    -------------\n",
      "\n",
      "    Recall vs Precision Tresholds:\n",
      "    \n"
     ]
    },
    {
     "data": {
      "image/png": "[encoded data removed]",
      "text/plain": [
       "<Figure size 432x288 with 1 Axes>"
      ]
     },
     "metadata": {
      "needs_background": "light"
     },
     "output_type": "display_data"
    },
    {
     "name": "stdout",
     "output_type": "stream",
     "text": [
      "\n",
      "\n",
      "    --------\n",
      "\n",
      "    ROC-AUC Curve:\n",
      "    \n"
     ]
    },
    {
     "data": {
      "image/png": "[encoded data removed]",
      "text/plain": [
       "<Figure size 432x288 with 1 Axes>"
      ]
     },
     "metadata": {
      "needs_background": "light"
     },
     "output_type": "display_data"
    },
    {
     "name": "stdout",
     "output_type": "stream",
     "text": [
      "\n",
      "\n",
      "    --------\n",
      "\n",
      "    Results for optimized threshold:\n",
      "    Threshold : 0.142\n",
      "    Precision: 0.209\n",
      "    Recall: 0.406\n",
      "    F1_Score: 0.276\n",
      "    \n",
      "\n",
      "    \n",
      "    --------\n",
      "    Confusion Matrix on thresholds:\n",
      "    \n",
      "    \n"
     ]
    },
    {
     "data": {
      "image/png": "[encoded data removed]",
      "text/plain": [
       "<Figure size 432x288 with 2 Axes>"
      ]
     },
     "metadata": {
      "needs_background": "light"
     },
     "output_type": "display_data"
    }
   ],
   "source": [
    "test_pipelines(X_train, y_train, X_test, pipelines)"
   ]
  },
  {
   "cell_type": "markdown",
   "id": "7648b293",
   "metadata": {},
   "source": [
    "# Model\n"
   ]
  },
  {
   "cell_type": "code",
   "execution_count": 31,
   "id": "e5ac48d0",
   "metadata": {},
   "outputs": [
    {
     "data": {
      "text/plain": [
       "Pipeline(steps=[('preprocessor',\n",
       "                 FeatureUnion(transformer_list=[('cat',\n",
       "                                                 Pipeline(steps=[('selector',\n",
       "                                                                  ColumnSelector(columns=['diabetesMed',\n",
       "                                                                                          'blood_transfusion',\n",
       "                                                                                          'admission_source_code',\n",
       "                                                                                          'discharge_disposition_code',\n",
       "                                                                                          'admission_type_code',\n",
       "                                                                                          'payer_code',\n",
       "                                                                                          'complete_vaccination_status',\n",
       "                                                                                          'blood_type',\n",
       "                                                                                          'max_glu_serum',\n",
       "                                                                                          'A1Cresult',\n",
       "                                                                                          'age',\n",
       "                                                                                          'gender',\n",
       "                                                                                          'medical_specialty',...\n",
       "                                                                  ColumnSelector(columns=['time_in_hospital',\n",
       "                                                                                          'num_lab_procedures',\n",
       "                                                                                          'num_procedures',\n",
       "                                                                                          'number_outpatient',\n",
       "                                                                                          'number_emergency',\n",
       "                                                                                          'number_inpatient',\n",
       "                                                                                          'number_diagnoses',\n",
       "                                                                                          'hemoglobin_level'])),\n",
       "                                                                 ('transformer',\n",
       "                                                                  NumericalTransformer()),\n",
       "                                                                 ('imputer',\n",
       "                                                                  SimpleImputer(strategy='median')),\n",
       "                                                                 ('scaler',\n",
       "                                                                  RobustScaler())]))])),\n",
       "                ('model', GradientBoostingClassifier(random_state=42))])"
      ]
     },
     "execution_count": 31,
     "metadata": {},
     "output_type": "execute_result"
    }
   ],
   "source": [
    "X = df_original.drop(columns=['readmitted'])\n",
    "y = df_original['readmitted']\n",
    "\n",
    "categorical = ['diabetesMed','blood_transfusion','admission_source_code','discharge_disposition_code','admission_type_code','payer_code','complete_vaccination_status','blood_type','max_glu_serum','A1Cresult','age','gender','medical_specialty', 'diag_1']\n",
    "numerical = ['time_in_hospital','num_lab_procedures','num_procedures','number_outpatient','number_emergency','number_inpatient','number_diagnoses','hemoglobin_level']\n",
    "estimator = GradientBoostingClassifier(random_state=seed)\n",
    "\n",
    "cat_pipe = Pipeline([\n",
    "        ('selector', ColumnSelector(categorical))\n",
    "        ,('transformer',CategoricalTransformer(mininum_records = 250))\n",
    "        ,('imputer', SimpleImputer(missing_values = None, strategy='constant', fill_value='missing'))\n",
    "        ,('encoder', OneHotEncoder(handle_unknown='ignore', sparse=False))\n",
    "    ])\n",
    "\n",
    "num_pipe = Pipeline([\n",
    "        ('selector', ColumnSelector(numerical))\n",
    "        ,('transformer',NumericalTransformer())\n",
    "        ,('imputer', SimpleImputer(strategy='median'))\n",
    "        ,('scaler', RobustScaler())\n",
    "    ])\n",
    "\n",
    "pre_processor = FeatureUnion([\n",
    "        ('cat', cat_pipe)\n",
    "        ,('num', num_pipe)\n",
    "    ])\n",
    "\n",
    "pipeline = Pipeline([\n",
    "        ('preprocessor', pre_processor)\n",
    "        ,('model', estimator)\n",
    "    ])\n",
    "\n",
    "pipeline.fit(X,y)\n",
    "#final_pipeline = make_pipeline(*pipeline[:-1], Thresholder(pipeline[1], 0.115))\n",
    "#final_pipeline.fit(X, y)"
   ]
  },
  {
   "cell_type": "code",
   "execution_count": 110,
   "id": "9324cd44",
   "metadata": {},
   "outputs": [
    {
     "ename": "NameError",
     "evalue": "name 'DiscriminationThreshold' is not defined",
     "output_type": "error",
     "traceback": [
      "\u001b[0;31m---------------------------------------------------------------------------\u001b[0m",
      "\u001b[0;31mNameError\u001b[0m                                 Traceback (most recent call last)",
      "\u001b[0;32m/var/folders/p1/d2wfyr5s0c56bc80hh1txqd40000gn/T/ipykernel_24299/4180083806.py\u001b[0m in \u001b[0;36m<module>\u001b[0;34m\u001b[0m\n\u001b[0;32m----> 1\u001b[0;31m \u001b[0mvisualizer\u001b[0m \u001b[0;34m=\u001b[0m \u001b[0mDiscriminationThreshold\u001b[0m\u001b[0;34m(\u001b[0m\u001b[0mpipeline\u001b[0m\u001b[0;34m,\u001b[0m \u001b[0mquantiles\u001b[0m\u001b[0;34m=\u001b[0m\u001b[0mnp\u001b[0m\u001b[0;34m.\u001b[0m\u001b[0marray\u001b[0m\u001b[0;34m(\u001b[0m\u001b[0;34m[\u001b[0m\u001b[0;36m0.25\u001b[0m\u001b[0;34m,\u001b[0m \u001b[0;36m0.5\u001b[0m\u001b[0;34m,\u001b[0m \u001b[0;36m0.75\u001b[0m\u001b[0;34m]\u001b[0m\u001b[0;34m)\u001b[0m\u001b[0;34m,\u001b[0m \u001b[0mn_trials\u001b[0m \u001b[0;34m=\u001b[0m\u001b[0;36m1\u001b[0m\u001b[0;34m,\u001b[0m \u001b[0mexclude\u001b[0m \u001b[0;34m=\u001b[0m \u001b[0;34m'queue_rate'\u001b[0m\u001b[0;34m)\u001b[0m\u001b[0;34m\u001b[0m\u001b[0;34m\u001b[0m\u001b[0m\n\u001b[0m\u001b[1;32m      2\u001b[0m \u001b[0;34m\u001b[0m\u001b[0m\n\u001b[1;32m      3\u001b[0m \u001b[0mvisualizer\u001b[0m\u001b[0;34m.\u001b[0m\u001b[0mfit\u001b[0m\u001b[0;34m(\u001b[0m\u001b[0mX_train\u001b[0m\u001b[0;34m,\u001b[0m \u001b[0my_train\u001b[0m\u001b[0;34m)\u001b[0m\u001b[0;34m\u001b[0m\u001b[0;34m\u001b[0m\u001b[0m\n\u001b[1;32m      4\u001b[0m \u001b[0mvisualizer\u001b[0m\u001b[0;34m.\u001b[0m\u001b[0mshow\u001b[0m\u001b[0;34m(\u001b[0m\u001b[0;34m)\u001b[0m\u001b[0;34m;\u001b[0m\u001b[0;34m\u001b[0m\u001b[0;34m\u001b[0m\u001b[0m\n\u001b[1;32m      5\u001b[0m \u001b[0;34m\u001b[0m\u001b[0m\n",
      "\u001b[0;31mNameError\u001b[0m: name 'DiscriminationThreshold' is not defined"
     ]
    }
   ],
   "source": [
    "visualizer = DiscriminationThreshold(pipeline, quantiles=np.array([0.25, 0.5, 0.75]), n_trials =1, exclude = 'queue_rate')\n",
    "\n",
    "visualizer.fit(X_train, y_train)\n",
    "visualizer.show();  \n",
    "\n",
    "discrimination_threshold(pipeline, X_test, y_test)\n",
    "#best_threshold = visualizer.thresholds_[visualizer.cv_scores_[visualizer.argmax].argmax()]\n",
    "#final_pipeline = make_pipeline(*pipeline[:-1], Thresholder(pipeline[1], 0.115))\n",
    "#final_pipeline.fit(X_train, y_train);"
   ]
  },
  {
   "cell_type": "code",
   "execution_count": null,
   "id": "742e098f",
   "metadata": {},
   "outputs": [],
   "source": [
    "dtypes_list =     {\n",
    "    'readmitted':\"object\",\n",
    "    'change':\"object\",\n",
    "    'diabetesMed':\"object\",\n",
    "    'has_prosthesis':\"object\",\n",
    "    'blood_transfusion':\"object\",\n",
    "    'diuretics':\"object\",\n",
    "    'insulin':\"object\",\n",
    "    'admission_source_code':\"float64\",\n",
    "    'discharge_disposition_code':\"float64\",\n",
    "    'admission_type_code':\"float64\",\n",
    "    'payer_code':\"object\",\n",
    "    'complete_vaccination_status':\"object\",\n",
    "    'blood_type':\"object\",\n",
    "    'max_glu_serum':\"object\",\n",
    "    'A1Cresult':\"object\",\n",
    "    'age':\"object\",\n",
    "    'race':\"object\",\n",
    "    'gender':\"object\",\n",
    "    'diag_1':\"object\",\n",
    "    'diag_2':\"object\",\n",
    "    'diag_3':\"object\",\n",
    "    'medical_specialty':\"object\",\n",
    "    'time_in_hospital':\"float64\",\n",
    "    'num_lab_procedures':\"float64\",\n",
    "    'num_procedures':\"float64\",\n",
    "    'num_medications':\"float64\",\n",
    "    'number_outpatient':\"float64\",\n",
    "    'number_emergency':\"float64\",\n",
    "    'number_inpatient':\"float64\",\n",
    "    'number_diagnoses':\"float64\",\n",
    "    'hemoglobin_level':\"float64\",\n",
    "    'admission_id':\"int64\",\n",
    "    'patient_id':\"int64\",\n",
    "    'weight':\"object\"\n",
    "}\n",
    "df_original_dtypes = df_original.astype(dtypes_list)"
   ]
  },
  {
   "cell_type": "code",
   "execution_count": null,
   "id": "dbdd8509",
   "metadata": {},
   "outputs": [],
   "source": [
    "with open(\"columns.json\", 'w') as fh:\n",
    "    json.dump(df_original.columns.tolist(), fh)\n",
    "\n",
    "with open(\"dtypes.pickle\", 'wb') as fh:\n",
    "    pickle.dump(df_original_dtypes.dtypes, fh)\n",
    "    \n",
    "joblib.dump(pipeline, 'pipeline.pickle') "
   ]
  },
  {
   "cell_type": "markdown",
   "id": "4cab1e7e",
   "metadata": {},
   "source": [
    "# Verify Descrimination"
   ]
  },
  {
   "cell_type": "code",
   "execution_count": 127,
   "id": "6b93176c",
   "metadata": {},
   "outputs": [],
   "source": [
    "y_test_proba = pipeline.predict_proba(X_test)[:,1]\n",
    "results_df = { \"y_test\": y_test, \"y_test_proba\": y_test_proba}\n",
    "results_df = pd.DataFrame(results_df)\n",
    "results_df['y_test_threshold'] = results_df['y_test_proba'].apply(lambda x : 1 if x >= 0.142  else 0 )"
   ]
  },
  {
   "cell_type": "code",
   "execution_count": 136,
   "id": "64719b0e",
   "metadata": {},
   "outputs": [],
   "source": [
    "def verify_no_discrimination(X_test,results_df, sensitive_column, max_diff=0.10, min_samples=250):    \n",
    "    \n",
    "    sensitive_classes = X_test[sensitive_column].unique()\n",
    "    \n",
    "    is_satisfied = True\n",
    "    readmission_rates = {}\n",
    "    \n",
    "    for sensitive_class in sensitive_classes:\n",
    "        mask = (X_test[sensitive_column] == sensitive_class)\n",
    "        if mask.sum() > min_samples:\n",
    "            #y_test_pred = results_df['y_test']\n",
    "            y_test_pred = results_df['y_test_threshold']\n",
    "            readmission_rates[sensitive_class] = round(y_test_pred[mask].mean(),3)\n",
    "\n",
    "    diff = round(np.max(list(readmission_rates.values())) - np.min(list(readmission_rates.values())),3)\n",
    "    \n",
    "    if diff > max_diff:\n",
    "        is_satisfied = False\n",
    "    \n",
    "    return diff, is_satisfied, readmission_rates"
   ]
  },
  {
   "cell_type": "code",
   "execution_count": 154,
   "id": "39e2c3db",
   "metadata": {},
   "outputs": [
    {
     "data": {
      "text/plain": [
       "({'?': 0.222,\n",
       "  'InternalMedicine': 0.205,\n",
       "  'Family/GeneralPractice': 0.213,\n",
       "  'Surgery-General': 0.213,\n",
       "  'Cardiology': 0.086,\n",
       "  'Emergency/Trauma': 0.225,\n",
       "  'Nephrology': 0.384},\n",
       " 0.298,\n",
       " False)"
      ]
     },
     "execution_count": 154,
     "metadata": {},
     "output_type": "execute_result"
    }
   ],
   "source": [
    "diff, is_satisfied, readmission_rates = verify_no_discrimination(X_test, results_df, 'medical_specialty', max_diff=0.1)\n",
    "readmission_rates,diff, is_satisfied"
   ]
  },
  {
   "cell_type": "code",
   "execution_count": 155,
   "id": "0f049613",
   "metadata": {},
   "outputs": [
    {
     "data": {
      "text/html": [
       "<div><div id=efddfa3c-c06a-48ef-96e2-cfb57ae901a2 style=\"display:none; background-color:#9D6CFF; color:white; width:200px; height:30px; padding-left:5px; border-radius:4px; flex-direction:row; justify-content:space-around; align-items:center;\" onmouseover=\"this.style.backgroundColor='#BA9BF8'\" onmouseout=\"this.style.backgroundColor='#9D6CFF'\" onclick=\"window.commands?.execute('create-mitosheet-from-dataframe-output');\">See Full Dataframe in Mito</div> <script> if (window.commands.hasCommand('create-mitosheet-from-dataframe-output')) document.getElementById('efddfa3c-c06a-48ef-96e2-cfb57ae901a2').style.display = 'flex' </script> <table border=\"1\" class=\"dataframe\">\n",
       "  <thead>\n",
       "    <tr style=\"text-align: right;\">\n",
       "      <th></th>\n",
       "      <th>readmission_rate</th>\n",
       "    </tr>\n",
       "  </thead>\n",
       "  <tbody>\n",
       "    <tr>\n",
       "      <th>?</th>\n",
       "      <td>0.222</td>\n",
       "    </tr>\n",
       "    <tr>\n",
       "      <th>InternalMedicine</th>\n",
       "      <td>0.205</td>\n",
       "    </tr>\n",
       "    <tr>\n",
       "      <th>Family/GeneralPractice</th>\n",
       "      <td>0.213</td>\n",
       "    </tr>\n",
       "    <tr>\n",
       "      <th>Surgery-General</th>\n",
       "      <td>0.213</td>\n",
       "    </tr>\n",
       "    <tr>\n",
       "      <th>Cardiology</th>\n",
       "      <td>0.086</td>\n",
       "    </tr>\n",
       "    <tr>\n",
       "      <th>Emergency/Trauma</th>\n",
       "      <td>0.225</td>\n",
       "    </tr>\n",
       "    <tr>\n",
       "      <th>Nephrology</th>\n",
       "      <td>0.384</td>\n",
       "    </tr>\n",
       "  </tbody>\n",
       "</table></div>"
      ],
      "text/plain": [
       "                        readmission_rate\n",
       "?                                  0.222\n",
       "InternalMedicine                   0.205\n",
       "Family/GeneralPractice             0.213\n",
       "Surgery-General                    0.213\n",
       "Cardiology                         0.086\n",
       "Emergency/Trauma                   0.225\n",
       "Nephrology                         0.384"
      ]
     },
     "execution_count": 155,
     "metadata": {},
     "output_type": "execute_result"
    }
   ],
   "source": [
    "results = pd.DataFrame.from_dict(readmission_rates, orient='index')\n",
    "results.columns=['readmission_rate']\n",
    "results"
   ]
  }
 ],
 "metadata": {
  "kernelspec": {
   "display_name": "Python 3 (ipykernel)",
   "language": "python",
   "name": "python3"
  },
  "language_info": {
   "codemirror_mode": {
    "name": "ipython",
    "version": 3
   },
   "file_extension": ".py",
   "mimetype": "text/x-python",
   "name": "python",
   "nbconvert_exporter": "python",
   "pygments_lexer": "ipython3",
   "version": "3.7.12"
  }
 },
 "nbformat": 4,
 "nbformat_minor": 5
}
