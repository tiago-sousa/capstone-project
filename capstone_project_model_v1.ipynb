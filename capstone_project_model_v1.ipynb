{
 "cells": [
  {
   "cell_type": "markdown",
   "id": "01de3958",
   "metadata": {},
   "source": [
    "# Setup"
   ]
  },
  {
   "cell_type": "markdown",
   "id": "08b228be",
   "metadata": {},
   "source": [
    "## Imports"
   ]
  },
  {
   "cell_type": "code",
   "execution_count": 1,
   "id": "9e561a24",
   "metadata": {},
   "outputs": [],
   "source": [
    "# Setup\n",
    "import os\n",
    "import joblib\n",
    "import pickle\n",
    "import json\n",
    "from utils.custom_transformers import ColumnSelector, CategoricalTransformer, SaveTransformer, NumericalTransformer\n",
    "\n",
    "# Data Analysis\n",
    "import pandas as pd\n",
    "import numpy as np\n",
    "from pandas_profiling import ProfileReport\n",
    "import matplotlib.pyplot as plt\n",
    "\n",
    "#Scikit learn\n",
    "from category_encoders import TargetEncoder\n",
    "from sklearn.base import BaseEstimator, TransformerMixin\n",
    "from sklearn.compose import ColumnTransformer\n",
    "from sklearn.model_selection import train_test_split\n",
    "from sklearn.pipeline import make_pipeline, Pipeline, FeatureUnion\n",
    "from sklearn.base import BaseEstimator, TransformerMixin\n",
    "from sklearn.preprocessing import OneHotEncoder, MinMaxScaler, RobustScaler\n",
    "from sklearn.impute import SimpleImputer\n",
    "from sklearn.linear_model import LogisticRegression\n",
    "from sklearn.ensemble import RandomForestClassifier, GradientBoostingClassifier\n",
    "from sklearn.metrics import precision_recall_fscore_support, confusion_matrix,roc_auc_score,roc_curve,classification_report,auc, plot_confusion_matrix\n"
   ]
  },
  {
   "cell_type": "markdown",
   "id": "955ced90",
   "metadata": {},
   "source": [
    "## Configs"
   ]
  },
  {
   "cell_type": "code",
   "execution_count": 2,
   "id": "c21a2511",
   "metadata": {},
   "outputs": [],
   "source": [
    "%matplotlib inline\n",
    "pd.set_option('display.max_columns', None)\n",
    "seed = 42"
   ]
  },
  {
   "cell_type": "markdown",
   "id": "0ee92fb6",
   "metadata": {},
   "source": [
    "## Functions"
   ]
  },
  {
   "cell_type": "code",
   "execution_count": 3,
   "id": "236c6a62",
   "metadata": {},
   "outputs": [],
   "source": [
    "def load_data(file_name, folder = \"data\"):\n",
    "    df = pd.read_csv(os.path.join(folder, file_name))\n",
    "    return df\n",
    "\n",
    "def target_transformation(text):\n",
    "    text = text.replace(\" \", \"\").lower()\n",
    "    if text == \"yes\" :\n",
    "        return 1\n",
    "    elif text == \"no\":\n",
    "        return 0"
   ]
  },
  {
   "cell_type": "markdown",
   "id": "21c76eaa",
   "metadata": {},
   "source": [
    "# Data Analysis"
   ]
  },
  {
   "cell_type": "markdown",
   "id": "31f7bd64",
   "metadata": {},
   "source": [
    "## Data Load"
   ]
  },
  {
   "cell_type": "code",
   "execution_count": 4,
   "id": "9b982636",
   "metadata": {},
   "outputs": [],
   "source": [
    "df_original = load_data(\"train_data.csv\",\"data\")"
   ]
  },
  {
   "cell_type": "markdown",
   "id": "1bf6e7ef",
   "metadata": {},
   "source": [
    "## Exploratory Data Analysis"
   ]
  },
  {
   "cell_type": "markdown",
   "id": "e4d7b985",
   "metadata": {},
   "source": [
    "### Overall Analysis"
   ]
  },
  {
   "cell_type": "code",
   "execution_count": null,
   "id": "5afabe06",
   "metadata": {
    "scrolled": false
   },
   "outputs": [],
   "source": [
    "df_original.dtypes"
   ]
  },
  {
   "cell_type": "code",
   "execution_count": 6,
   "id": "3b05417a",
   "metadata": {},
   "outputs": [
    {
     "data": {
      "text/plain": [
       "admission_id                      0\n",
       "patient_id                        0\n",
       "race                              0\n",
       "gender                            0\n",
       "age                            2336\n",
       "weight                         1560\n",
       "admission_type_code            1162\n",
       "discharge_disposition_code      571\n",
       "admission_source_code             0\n",
       "time_in_hospital                  0\n",
       "payer_code                        0\n",
       "medical_specialty                 0\n",
       "has_prosthesis                    0\n",
       "complete_vaccination_status       0\n",
       "num_lab_procedures             1493\n",
       "num_procedures                    0\n",
       "num_medications                2678\n",
       "number_outpatient                 0\n",
       "number_emergency                  0\n",
       "number_inpatient                  0\n",
       "diag_1                            0\n",
       "diag_2                         1349\n",
       "diag_3                            0\n",
       "number_diagnoses                  0\n",
       "blood_type                        0\n",
       "hemoglobin_level                  0\n",
       "blood_transfusion                 0\n",
       "max_glu_serum                     0\n",
       "A1Cresult                         0\n",
       "diuretics                         0\n",
       "insulin                           0\n",
       "change                            0\n",
       "diabetesMed                       0\n",
       "readmitted                        0\n",
       "dtype: int64"
      ]
     },
     "execution_count": 6,
     "metadata": {},
     "output_type": "execute_result"
    }
   ],
   "source": [
    "df_original.isna().sum()"
   ]
  },
  {
   "cell_type": "code",
   "execution_count": 31,
   "id": "4d636925",
   "metadata": {},
   "outputs": [
    {
     "data": {
      "text/plain": [
       "?                         40020\n",
       "InternalMedicine          11712\n",
       "Emergency/Trauma           6021\n",
       "Family/GeneralPractice     5939\n",
       "Cardiology                 4273\n",
       "                          ...  \n",
       "Dermatology                   1\n",
       "Psychiatry-Addictive          1\n",
       "Speech                        1\n",
       "Resident                      1\n",
       "Perinatology                  1\n",
       "Name: medical_specialty, Length: 71, dtype: int64"
      ]
     },
     "execution_count": 31,
     "metadata": {},
     "output_type": "execute_result"
    }
   ],
   "source": [
    "df_original['medical_specialty'].value_counts()"
   ]
  },
  {
   "cell_type": "markdown",
   "id": "68e94900",
   "metadata": {},
   "source": [
    "# Pipelines"
   ]
  },
  {
   "cell_type": "markdown",
   "id": "5670266a",
   "metadata": {},
   "source": [
    "## Custom Transformers"
   ]
  },
  {
   "cell_type": "code",
   "execution_count": 5,
   "id": "b0e63323",
   "metadata": {},
   "outputs": [],
   "source": [
    "class ColumnSelector(BaseEstimator, TransformerMixin):\n",
    "    \n",
    "    def __init__(self, columns):\n",
    "        self.columns = columns\n",
    "        \n",
    "    def fit(self, X, y=None):\n",
    "        return self\n",
    "    \n",
    "    def transform(self, X):\n",
    "        return X[self.columns]"
   ]
  },
  {
   "cell_type": "code",
   "execution_count": 6,
   "id": "f56c3290",
   "metadata": {},
   "outputs": [],
   "source": [
    "class Save(BaseEstimator, TransformerMixin):\n",
    "    \n",
    "    def __init__(self, step):\n",
    "        self.step = step\n",
    "        pass\n",
    "    \n",
    "    def fit(self, X=None, y=None, **fit_params):\n",
    "        return self\n",
    "    \n",
    "    def transform(self, data):\n",
    "        X = data.copy()\n",
    "        name = \"pipeline_\"+self.step+\"_spy.csv\"\n",
    "        pd.DataFrame(X).head(50).to_csv(name)\n",
    "        return X"
   ]
  },
  {
   "cell_type": "code",
   "execution_count": 7,
   "id": "cbf1f8ff",
   "metadata": {},
   "outputs": [],
   "source": [
    "class CategoricalTransformer(BaseEstimator, TransformerMixin):\n",
    "    \n",
    "    def __init__(self):\n",
    "        super().__init__()\n",
    "\n",
    "    def fit(self, X, y=None):\n",
    "        return self\n",
    "\n",
    "    def pre_process_text(self, obj):\n",
    "        return str(obj).replace(\" \",\"\").lower()\n",
    "    \n",
    "    def bool_to_binary(self, obj):\n",
    "        if obj == True:\n",
    "            return 1\n",
    "        elif obj == False:\n",
    "            return 0\n",
    "    \n",
    "    def text_to_binary(self, obj):\n",
    "        if obj == \"yes\" or obj == \"ch\"  :\n",
    "            return 1\n",
    "        elif obj == \"no\":\n",
    "            return 0\n",
    "    \n",
    "    def handle_missing_values(self, obj):\n",
    "        if pd.isna(obj) or str(obj) == \"?\" or str(obj) == \"unknown/invalid\" or str(obj) == \"nan\" :\n",
    "            return np.nan\n",
    "        else :\n",
    "            return obj\n",
    "        \n",
    "    def transform(self, X, y=None):\n",
    "        _X = X.copy()\n",
    "        for _col in _X:     \n",
    "            if _col in ['has_prosthesis','blood_transfusion']:\n",
    "                _X[_col] = _X[_col].apply(self.bool_to_binary)\n",
    "            elif _col in ['diuretics','insulin','change','diabetesMed','readmitted']:\n",
    "                _X[_col] = _X[_col].apply(self.pre_process_text)\n",
    "                _X[_col] = _X[_col].apply(self.text_to_binary)\n",
    "            elif _col in ['admission_source_code','discharge_disposition_code','admission_type_code','race','gender','age','weight','payer_code','medical_specialty','complete_vaccination_status','blood_type','max_glu_serum','A1Cresult','diag_1','diag_2','diag_3']:\n",
    "                _X[_col] = _X[_col].apply(self.pre_process_text)\n",
    "                _X[_col] = _X[_col].apply(self.handle_missing_values)\n",
    "            \n",
    "        return _X"
   ]
  },
  {
   "cell_type": "code",
   "execution_count": 8,
   "id": "bc6d1fdb",
   "metadata": {},
   "outputs": [],
   "source": [
    "class NumericalTransformer(BaseEstimator, TransformerMixin):\n",
    "    def __init__(self):\n",
    "        super().__init__()\n",
    "\n",
    "    def fit(self, X, y=None):\n",
    "        return self\n",
    "    \n",
    "    def missing_to_zero(self, obj):\n",
    "        if pd.isna(obj):\n",
    "            return 0\n",
    "        else :\n",
    "            return obj\n",
    "    \n",
    "    def return_float(self, obj):\n",
    "        return float(obj)\n",
    "    \n",
    "    def return_int(self, obj):\n",
    "        return int(obj)\n",
    "        \n",
    "    def transform(self, X, y=None):\n",
    "        _X = X.copy()\n",
    "        for _col in _X:\n",
    "            if _col in ['num_lab_procedures','num_procedures','num_medications']:\n",
    "                _X[_col] = _X[_col].apply(self.missing_to_zero)\n",
    "                _X[_col] = _X[_col].apply(self.return_int)\n",
    "            elif _col in ['time_in_hospital','number_outpatient','number_emergency','number_inpatient','number_diagnoses']:\n",
    "                _X[_col] = _X[_col].apply(self.return_int)\n",
    "            elif _col in ['hemoglobin_level']:\n",
    "                _X[_col] = _X[_col].apply(self.return_float)\n",
    "        return _X"
   ]
  },
  {
   "cell_type": "code",
   "execution_count": 26,
   "id": "ec00c86f",
   "metadata": {},
   "outputs": [],
   "source": [
    "df_original_filtered = df_original.copy()\n",
    "df_original_filtered = df_original_filtered.drop_duplicates(subset=['patient_id'])"
   ]
  },
  {
   "cell_type": "code",
   "execution_count": 5,
   "id": "c6c3adef",
   "metadata": {},
   "outputs": [],
   "source": [
    "X_train, X_test, y_train, y_test = train_test_split(df_original.drop(columns=['readmitted']), \n",
    "                                                    df_original['readmitted'],\n",
    "                                                    shuffle = False,\n",
    "                                                    test_size=.05, \n",
    "                                                    random_state=seed)"
   ]
  },
  {
   "cell_type": "code",
   "execution_count": 6,
   "id": "2b8480e0",
   "metadata": {},
   "outputs": [],
   "source": [
    "y_train = y_train.apply(target_transformation)\n",
    "y_test = y_test.apply(target_transformation)"
   ]
  },
  {
   "cell_type": "code",
   "execution_count": 7,
   "id": "f69544df",
   "metadata": {},
   "outputs": [
    {
     "name": "stderr",
     "output_type": "stream",
     "text": [
      "/Users/tiagosousa/.virtualenvs/capstone-project/lib/python3.7/site-packages/sklearn/linear_model/_logistic.py:818: ConvergenceWarning: lbfgs failed to converge (status=1):\n",
      "STOP: TOTAL NO. of ITERATIONS REACHED LIMIT.\n",
      "\n",
      "Increase the number of iterations (max_iter) or scale the data as shown in:\n",
      "    https://scikit-learn.org/stable/modules/preprocessing.html\n",
      "Please also refer to the documentation for alternative solver options:\n",
      "    https://scikit-learn.org/stable/modules/linear_model.html#logistic-regression\n",
      "  extra_warning_msg=_LOGISTIC_SOLVER_CONVERGENCE_MSG,\n"
     ]
    },
    {
     "name": "stdout",
     "output_type": "stream",
     "text": [
      "Predictions on training data: [0 0 0 ... 0 1 0]\n",
      "Predictions on test data: [0 1 0 ... 1 0 0]\n"
     ]
    }
   ],
   "source": [
    "categorical = ['admission_source_code','discharge_disposition_code','admission_type_code','medical_specialty','weight','insulin','change','diag_1','A1Cresult','max_glu_serum','diabetesMed','has_prosthesis','blood_transfusion','diuretics','payer_code','complete_vaccination_status','blood_type','age']\n",
    "numerical = ['num_medications','hemoglobin_level','time_in_hospital','num_lab_procedures','num_procedures','number_outpatient','number_emergency','number_inpatient','number_diagnoses']\n",
    "#excluding: ,'diag_2','diag_3', 'race', 'gender'\n",
    "cat_pipe = Pipeline([\n",
    "    ('selector', ColumnSelector(categorical))\n",
    "    ,('transformer',CategoricalTransformer())\n",
    "    ,('imputer', SimpleImputer(strategy='constant', fill_value='missing'))\n",
    "    ,('encoder', OneHotEncoder(handle_unknown='ignore', sparse=False))\n",
    "])\n",
    "\n",
    "num_pipe = Pipeline([\n",
    "    ('selector', ColumnSelector(numerical))\n",
    "    ,('transformer',NumericalTransformer())\n",
    "    ,('imputer', SimpleImputer(strategy='median'))\n",
    "    ,('scaler', RobustScaler())\n",
    "])\n",
    "\n",
    "pre_processor = FeatureUnion([\n",
    "    ('cat', cat_pipe)\n",
    "    ,('num', num_pipe)\n",
    "])\n",
    "\n",
    "pipeline = Pipeline([\n",
    "    ('preprocessor', pre_processor)\n",
    "    ,('model', LogisticRegression(class_weight='balanced' ))\n",
    "])\n",
    "\n",
    "pipeline.fit(X_train, y_train)\n",
    "\n",
    "# Predict training data\n",
    "y_train_pred = pipeline.predict(X_train)\n",
    "print(f\"Predictions on training data: {y_train_pred}\")\n",
    "\n",
    "# Predict test data\n",
    "y_test_pred = pipeline.predict(X_test)\n",
    "print(f\"Predictions on test data: {y_test_pred}\")\n",
    "\n"
   ]
  },
  {
   "cell_type": "code",
   "execution_count": 8,
   "id": "17e68717",
   "metadata": {},
   "outputs": [
    {
     "name": "stderr",
     "output_type": "stream",
     "text": [
      "/Users/tiagosousa/.virtualenvs/capstone-project/lib/python3.7/site-packages/sklearn/utils/deprecation.py:87: FutureWarning: Function plot_confusion_matrix is deprecated; Function `plot_confusion_matrix` is deprecated in 1.0 and will be removed in 1.2. Use one of the class methods: ConfusionMatrixDisplay.from_predictions or ConfusionMatrixDisplay.from_estimator.\n",
      "  warnings.warn(msg, category=FutureWarning)\n"
     ]
    },
    {
     "data": {
      "image/png": "[encoded data removed]",
      "text/plain": [
       "<Figure size 432x288 with 2 Axes>"
      ]
     },
     "metadata": {
      "needs_background": "light"
     },
     "output_type": "display_data"
    }
   ],
   "source": [
    "plot_confusion_matrix(pipeline, X_test, y_test)  \n",
    "plt.show()"
   ]
  },
  {
   "cell_type": "code",
   "execution_count": 15,
   "id": "6c22783e",
   "metadata": {},
   "outputs": [
    {
     "name": "stdout",
     "output_type": "stream",
     "text": [
      "ROC-AUC:\n"
     ]
    },
    {
     "data": {
      "image/png": "[encoded data removed]",
      "text/plain": [
       "<Figure size 432x288 with 1 Axes>"
      ]
     },
     "metadata": {
      "needs_background": "light"
     },
     "output_type": "display_data"
    }
   ],
   "source": [
    "y_scores = pipeline.predict_proba(X_test)[:,1]\n",
    "fpr, tpr, threshold = roc_curve(y_test, y_scores)\n",
    "roc_auc = auc(fpr, tpr)\n",
    "print(\"ROC-AUC:\")\n",
    "plt.title(\"Receiver Operating Characteristic\")\n",
    "plt.plot(fpr, tpr, 'b', label = 'AUC = %0.5f' % roc_auc)\n",
    "plt.legend(loc = 'lower right')\n",
    "plt.plot([0, 1], [0, 1],'r--')\n",
    "plt.xlim([0, 1])\n",
    "plt.ylim([0, 1])\n",
    "plt.ylabel('True Positive Rate')\n",
    "plt.xlabel('False Positive Rate')\n",
    "plt.show()"
   ]
  },
  {
   "cell_type": "code",
   "execution_count": 16,
   "id": "e4f065b6",
   "metadata": {},
   "outputs": [
    {
     "data": {
      "text/plain": [
       "(array([0.92592827, 0.17678468]),\n",
       " array([0.67363092, 0.56533036]),\n",
       " array([0.77988226, 0.269343  ]),\n",
       " array([21730,  2694]))"
      ]
     },
     "execution_count": 16,
     "metadata": {},
     "output_type": "execute_result"
    }
   ],
   "source": [
    "precision, recall, fscore, support = precision_recall_fscore_support(y_test, y_test_pred)\n",
    "precision, recall, fscore, support"
   ]
  },
  {
   "cell_type": "code",
   "execution_count": 19,
   "id": "ec3de0a9",
   "metadata": {},
   "outputs": [
    {
     "name": "stdout",
     "output_type": "stream",
     "text": [
      "With treshold = 0.0 AUC of 0.5\n",
      "With treshold = 0.05263157894736842 AUC of 0.5001150483202945\n",
      "With treshold = 0.10526315789473684 AUC of 0.5006657599458291\n",
      "With treshold = 0.15789473684210525 AUC of 0.5011949822191839\n",
      "With treshold = 0.21052631578947367 AUC of 0.5028471170957876\n",
      "With treshold = 0.2631578947368421 AUC of 0.5109634472610642\n",
      "With treshold = 0.3157894736842105 AUC of 0.5266996318112107\n",
      "With treshold = 0.3684210526315789 AUC of 0.5694599237247573\n",
      "With treshold = 0.42105263157894735 AUC of 0.6088667151116609\n",
      "With treshold = 0.47368421052631576 AUC of 0.6278367738503623\n",
      "With treshold = 0.5263157894736842 AUC of 0.6139943512726719\n",
      "With treshold = 0.5789473684210527 AUC of 0.5979014229777545\n",
      "With treshold = 0.631578947368421 AUC of 0.5789280161364877\n",
      "With treshold = 0.6842105263157894 AUC of 0.5620060054027443\n",
      "With treshold = 0.7368421052631579 AUC of 0.5419162625882677\n",
      "With treshold = 0.7894736842105263 AUC of 0.5273988044540696\n",
      "With treshold = 0.8421052631578947 AUC of 0.5180348961114521\n",
      "With treshold = 0.894736842105263 AUC of 0.5094086123447275\n",
      "With treshold = 0.9473684210526315 AUC of 0.503322308509886\n",
      "With treshold = 1.0 AUC of 0.5\n"
     ]
    }
   ],
   "source": [
    "for a in np.linspace(0,1,20):\n",
    "    y_scores_treshold = [1 if x > a else 0 for x in y_scores]\n",
    "    fpr, tpr, thresholds = roc_curve(y_test, y_scores_treshold, pos_label=1)\n",
    "    print(\"With treshold = {} AUC of {}\".format(a,auc(fpr, tpr)))"
   ]
  },
  {
   "cell_type": "markdown",
   "id": "7648b293",
   "metadata": {},
   "source": [
    "# Model\n"
   ]
  },
  {
   "cell_type": "code",
   "execution_count": 9,
   "id": "e5ac48d0",
   "metadata": {},
   "outputs": [],
   "source": [
    "TMP_DIR = '/tmp'"
   ]
  },
  {
   "cell_type": "code",
   "execution_count": 11,
   "id": "dbdd8509",
   "metadata": {},
   "outputs": [
    {
     "data": {
      "text/plain": [
       "['pipeline.pickle']"
      ]
     },
     "execution_count": 11,
     "metadata": {},
     "output_type": "execute_result"
    }
   ],
   "source": [
    "with open(\"columns.json\", 'w') as fh:\n",
    "    json.dump(df_original.columns.tolist(), fh)\n",
    "\n",
    "with open(\"dtypes.pickle\", 'wb') as fh:\n",
    "    pickle.dump(df_original.dtypes, fh)\n",
    "    \n",
    "joblib.dump(pipeline, 'pipeline.pickle') "
   ]
  }
 ],
 "metadata": {
  "kernelspec": {
   "display_name": "Python 3 (ipykernel)",
   "language": "python",
   "name": "python3"
  },
  "language_info": {
   "codemirror_mode": {
    "name": "ipython",
    "version": 3
   },
   "file_extension": ".py",
   "mimetype": "text/x-python",
   "name": "python",
   "nbconvert_exporter": "python",
   "pygments_lexer": "ipython3",
   "version": "3.7.12"
  }
 },
 "nbformat": 4,
 "nbformat_minor": 5
}
