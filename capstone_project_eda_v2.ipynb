{
 "cells": [
  {
   "cell_type": "markdown",
   "id": "01de3958",
   "metadata": {},
   "source": [
    "# Setup"
   ]
  },
  {
   "cell_type": "markdown",
   "id": "08b228be",
   "metadata": {},
   "source": [
    "## Imports"
   ]
  },
  {
   "cell_type": "code",
   "execution_count": 2,
   "id": "9e561a24",
   "metadata": {},
   "outputs": [],
   "source": [
    "# Setup\n",
    "import os\n",
    "from utils.custom_transformers import ColumnSelector, SaveTransformer, NumericalTransformer, CategoricalTransformer\n",
    "from IPython.display import Image\n",
    "\n",
    "# Data Analysis\n",
    "import pandas as pd\n",
    "import numpy as np\n",
    "from pandas_profiling import ProfileReport\n",
    "\n",
    "\n",
    "#Scikit learn\n",
    "from sklearn.base import BaseEstimator, TransformerMixin\n",
    "from sklearn.compose import ColumnTransformer\n",
    "from sklearn.model_selection import train_test_split\n",
    "from sklearn.pipeline import make_pipeline, Pipeline, FeatureUnion\n",
    "from sklearn.base import BaseEstimator, TransformerMixin\n",
    "from sklearn.preprocessing import OneHotEncoder, MinMaxScaler\n",
    "from sklearn.impute import SimpleImputer"
   ]
  },
  {
   "cell_type": "markdown",
   "id": "955ced90",
   "metadata": {},
   "source": [
    "## Configs"
   ]
  },
  {
   "cell_type": "code",
   "execution_count": 3,
   "id": "c21a2511",
   "metadata": {},
   "outputs": [],
   "source": [
    "%matplotlib inline\n",
    "pd.set_option('display.max_columns', None)\n",
    "pd.set_option('display.max_rows', None)"
   ]
  },
  {
   "cell_type": "markdown",
   "id": "0ee92fb6",
   "metadata": {},
   "source": [
    "## Functions"
   ]
  },
  {
   "cell_type": "code",
   "execution_count": 5,
   "id": "6063037e",
   "metadata": {},
   "outputs": [],
   "source": [
    "def load_data(file_name, folder = \"data\"):\n",
    "    df = pd.read_csv(os.path.join(folder, file_name))\n",
    "    return df\n",
    "\n",
    "def target_transformation(text):\n",
    "    text = text.replace(\" \", \"\").lower()\n",
    "    if text == \"yes\" :\n",
    "        return 1\n",
    "    elif text == \"no\":\n",
    "        return 0"
   ]
  },
  {
   "cell_type": "markdown",
   "id": "21c76eaa",
   "metadata": {},
   "source": [
    "# Data Analysis"
   ]
  },
  {
   "cell_type": "markdown",
   "id": "31f7bd64",
   "metadata": {},
   "source": [
    "## Data Load"
   ]
  },
  {
   "cell_type": "code",
   "execution_count": 6,
   "id": "9b982636",
   "metadata": {},
   "outputs": [],
   "source": [
    "df_original = load_data(\"train_data.csv\",\"data\")"
   ]
  },
  {
   "cell_type": "code",
   "execution_count": null,
   "id": "03a60e94",
   "metadata": {},
   "outputs": [],
   "source": [
    "patient_list = set(df_original['patient_id'])\n",
    "patients_to_remove = []\n",
    "for patient_id in patient_list:\n",
    "    data = df_original[df_original['patient_id']==patient_id]\n",
    "    distinct_gender = data['gender'].nunique()\n",
    "    distinct_blood_type = data['blood_type'].nunique()\n",
    "    if distinct_gender > 1 or distinct_blood_type > 1:\n",
    "        patients_to_remove.append(patient_id)\n",
    "        \n",
    "df_original_filtered = df_original.copy()\n",
    "df_original_filtered = df_original_filtered.loc[~df_original_filtered['patient_id'].isin(patients_to_remove)]"
   ]
  },
  {
   "cell_type": "markdown",
   "id": "ded27551",
   "metadata": {},
   "source": [
    "## Data Transformation"
   ]
  },
  {
   "cell_type": "code",
   "execution_count": 7,
   "id": "8f0acfb7",
   "metadata": {},
   "outputs": [],
   "source": [
    "categorical = ['readmitted','change','diabetesMed','has_prosthesis','blood_transfusion','diuretics','insulin','admission_source_code','discharge_disposition_code','admission_type_code','payer_code','complete_vaccination_status','blood_type','max_glu_serum','A1Cresult','age','race','gender','weight','diag_1','diag_2','diag_3','medical_specialty']\n",
    "numerical = ['time_in_hospital','num_lab_procedures','num_procedures','num_medications','number_outpatient','number_emergency','number_inpatient','number_diagnoses','hemoglobin_level']\n",
    "new_column = []\n",
    "cols_to_remove = []\n",
    "columns_features = categorical + new_column + numerical\n",
    "columns_features = [col for col in columns_features if col not in cols_to_remove]\n",
    "columns_extra = [column for column in df_original.columns if column not in columns_features ]\n",
    "\n",
    "cat_pipe = Pipeline([\n",
    "    ('selector', ColumnSelector(categorical))\n",
    "    ,('transformer',CategoricalTransformer(mininum_records = 250))\n",
    "    ,(\"save_to_csv_cat1\", SaveTransformer(step=\"cat1\"))\n",
    "    ,('imputer', SimpleImputer(missing_values = None, strategy='constant', fill_value='missing'))\n",
    "    #,('encoder', OneHotEncoder(handle_unknown='ignore', sparse=False))\n",
    "    ,(\"save_to_csv_cat2\", SaveTransformer(step=\"cat2\"))\n",
    "])\n",
    "\n",
    "num_pipe = Pipeline([\n",
    "    ('selector', ColumnSelector(numerical))\n",
    "    ,('transformer',NumericalTransformer())\n",
    "    ,(\"save_to_csv_num1\", SaveTransformer(step=\"num1\"))\n",
    "    ,('imputer', SimpleImputer(strategy='median'))\n",
    "    #,('scaler', MinMaxScaler())\n",
    "    #,(\"save_to_csv_num2\", Save(step=\"num2\"))\n",
    "])\n",
    "\n",
    "extra_pipe = Pipeline([\n",
    "    ('selector', ColumnSelector(columns_extra))\n",
    "    ,('imputer', SimpleImputer(strategy='median'))\n",
    "    #,('scaler', MinMaxScaler())\n",
    "    #,(\"save_to_csv_num2\", Save(step=\"num2\"))\n",
    "])\n",
    "\n",
    "pre_processor = FeatureUnion([\n",
    "    ('cat', cat_pipe)\n",
    "    ,('num', num_pipe)\n",
    "    ,('extra', extra_pipe)\n",
    "])\n",
    "\n",
    "pipeline = Pipeline([\n",
    "    ('preprocessor', pre_processor)\n",
    "    #,('model', GradientBoostingClassifier())\n",
    "])\n",
    "\n",
    "pipeline.fit(df_original)\n",
    "df_transformed = pipeline.transform(df_original)\n",
    "\n",
    "total_columns = np.append(columns_features, columns_extra)\n",
    "df_transformed = pd.DataFrame(df_transformed, columns = total_columns)\n",
    "dtypes_list =     {\n",
    "    'readmitted':\"Int64\",\n",
    "    'change':\"Int64\",\n",
    "    'diabetesMed':\"Int64\",\n",
    "    'has_prosthesis':\"Int64\",\n",
    "    'blood_transfusion':\"Int64\",\n",
    "    'diuretics':\"Int64\",\n",
    "    'insulin':\"Int64\",\n",
    "    'admission_source_code':\"object\",\n",
    "    'discharge_disposition_code':\"object\",\n",
    "    'admission_type_code':\"object\",\n",
    "    'payer_code':\"object\",\n",
    "    'complete_vaccination_status':\"object\",\n",
    "    'blood_type':\"object\",\n",
    "    'max_glu_serum':\"object\",\n",
    "    'A1Cresult':\"object\",\n",
    "    'age':\"object\",\n",
    "    'race':\"object\",\n",
    "    'gender':\"object\",\n",
    "    'diag_1':\"object\",\n",
    "    'diag_2':\"object\",\n",
    "    'diag_3':\"object\",\n",
    "    'medical_specialty':\"object\",\n",
    "    'time_in_hospital':\"Int64\",\n",
    "    'num_lab_procedures':\"Int64\",\n",
    "    'num_procedures':\"Int64\",\n",
    "    'num_medications':\"Int64\",\n",
    "    'number_outpatient':\"Int64\",\n",
    "    'number_emergency':\"Int64\",\n",
    "    'number_inpatient':\"Int64\",\n",
    "    'number_diagnoses':\"Int64\",\n",
    "    'hemoglobin_level':\"Float64\",\n",
    "    'admission_id':\"Int64\",\n",
    "    'patient_id':\"Int64\",\n",
    "    'weight':\"object\"\n",
    "}\n",
    "df_transformed = df_transformed.astype(dtypes_list)\n"
   ]
  },
  {
   "cell_type": "code",
   "execution_count": null,
   "id": "d71c1da9",
   "metadata": {},
   "outputs": [],
   "source": [
    "corrMatrix = df_transformed.corr()\n",
    "print (corrMatrix)"
   ]
  },
  {
   "cell_type": "code",
   "execution_count": null,
   "id": "d4a30763",
   "metadata": {},
   "outputs": [],
   "source": [
    "df_transformed.isnull().sum()"
   ]
  },
  {
   "cell_type": "code",
   "execution_count": 10,
   "id": "545dfc26",
   "metadata": {},
   "outputs": [
    {
     "name": "stdout",
     "output_type": "stream",
     "text": [
      "                                   readmitted    change  diabetesMed  \\\n",
      "medical_specialty                                                      \n",
      "cardiology                           0.079335  0.413527     0.754505   \n",
      "emergency/trauma                     0.111111  0.608703     0.828766   \n",
      "family/generalpractice               0.116518  0.466745     0.783128   \n",
      "gastroenterology                      0.11828  0.417204      0.76129   \n",
      "internalmedicine                     0.110229  0.438525     0.778945   \n",
      "missing                              0.116392  0.456747      0.76052   \n",
      "nephrology                           0.157814  0.385681     0.721324   \n",
      "obstetricsandgynecology              0.050847  0.293785     0.664783   \n",
      "oncology                             0.189286  0.389286          0.7   \n",
      "orthopedics                          0.105455  0.501818     0.800909   \n",
      "orthopedics-reconstructive           0.076453  0.477064     0.782875   \n",
      "others                               0.088901  0.433728     0.810884   \n",
      "physicalmedicineandrehabilitation    0.147651   0.38255     0.775168   \n",
      "psychiatry                           0.114243  0.434718     0.777448   \n",
      "pulmonology                          0.104286  0.507143     0.798571   \n",
      "radiologist                          0.092004  0.452355     0.789704   \n",
      "surgery-cardiovascular/thoracic      0.070209   0.58444     0.865275   \n",
      "surgery-general                      0.106349  0.456126     0.730287   \n",
      "surgery-neuro                        0.075067  0.469169     0.756032   \n",
      "surgery-vascular                     0.150685  0.541096     0.778539   \n",
      "urology                              0.102041  0.395176     0.705009   \n",
      "\n",
      "                                   has_prosthesis  blood_transfusion  \\\n",
      "medical_specialty                                                      \n",
      "cardiology                               0.009361           0.121226   \n",
      "emergency/trauma                         0.010297           0.123235   \n",
      "family/generalpractice                   0.010103            0.11736   \n",
      "gastroenterology                         0.008602           0.109677   \n",
      "internalmedicine                         0.009563           0.121158   \n",
      "missing                                  0.011444           0.118316   \n",
      "nephrology                               0.004619           0.110085   \n",
      "obstetricsandgynecology                  0.016949           0.120527   \n",
      "oncology                                 0.017857           0.128571   \n",
      "orthopedics                              0.007273           0.118182   \n",
      "orthopedics-reconstructive               0.009174            0.12844   \n",
      "others                                   0.010776           0.127155   \n",
      "physicalmedicineandrehabilitation        0.006711           0.100671   \n",
      "psychiatry                               0.007418           0.115727   \n",
      "pulmonology                              0.014286               0.12   \n",
      "radiologist                              0.009858           0.125958   \n",
      "surgery-cardiovascular/thoracic           0.00759           0.108159   \n",
      "surgery-general                          0.010514           0.120906   \n",
      "surgery-neuro                            0.016086           0.107239   \n",
      "surgery-vascular                         0.006849           0.125571   \n",
      "urology                                  0.007421           0.111317   \n",
      "\n",
      "                                   diuretics   insulin  time_in_hospital  \\\n",
      "medical_specialty                                                          \n",
      "cardiology                          0.017084  0.460098          3.551135   \n",
      "emergency/trauma                    0.015612  0.658196          4.370703   \n",
      "family/generalpractice              0.018353  0.539148          4.356962   \n",
      "gastroenterology                    0.019355  0.552688          4.477419   \n",
      "internalmedicine                    0.019553  0.588371          4.565488   \n",
      "missing                             0.018516  0.533708          4.403798   \n",
      "nephrology                          0.020015  0.612009          4.983834   \n",
      "obstetricsandgynecology             0.013183  0.504708          3.148776   \n",
      "oncology                            0.017857  0.410714          5.082143   \n",
      "orthopedics                         0.021818  0.429091          4.029091   \n",
      "orthopedics-reconstructive          0.020387  0.401631           3.93476   \n",
      "others                              0.023168  0.604526          4.144397   \n",
      "physicalmedicineandrehabilitation   0.010067  0.305369          8.785235   \n",
      "psychiatry                          0.025223  0.433234          6.505935   \n",
      "pulmonology                         0.014286  0.577143          5.151429   \n",
      "radiologist                         0.035049  0.531216          3.592552   \n",
      "surgery-cardiovascular/thoracic      0.01518  0.698292          5.719165   \n",
      "surgery-general                     0.018601  0.517994          4.588759   \n",
      "surgery-neuro                       0.005362   0.41555          3.538874   \n",
      "surgery-vascular                     0.02968  0.621005          4.018265   \n",
      "urology                             0.014842    0.3859          3.410019   \n",
      "\n",
      "                                   num_lab_procedures  num_procedures  \\\n",
      "medical_specialty                                                       \n",
      "cardiology                                  42.892113        2.683829   \n",
      "emergency/trauma                            42.313901        1.155124   \n",
      "family/generalpractice                      43.080148        0.981647   \n",
      "gastroenterology                            38.505376             1.6   \n",
      "internalmedicine                             49.48207         1.01793   \n",
      "missing                                     43.237256        1.241679   \n",
      "nephrology                                  43.230947        1.789838   \n",
      "obstetricsandgynecology                     32.572505        1.928437   \n",
      "oncology                                    41.035714        1.103571   \n",
      "orthopedics                                 29.648182        1.955455   \n",
      "orthopedics-reconstructive                  33.972477        1.688073   \n",
      "others                                      37.677263         1.33944   \n",
      "physicalmedicineandrehabilitation           37.815436         0.64094   \n",
      "psychiatry                                   39.61276        0.372404   \n",
      "pulmonology                                 49.512857        0.962857   \n",
      "radiologist                                 31.714129        3.210296   \n",
      "surgery-cardiovascular/thoracic             49.267552        3.280835   \n",
      "surgery-general                             38.028306        1.653457   \n",
      "surgery-neuro                               33.635389        1.919571   \n",
      "surgery-vascular                            33.150685        2.593607   \n",
      "urology                                     31.046382         1.77551   \n",
      "\n",
      "                                   num_medications  number_outpatient  \\\n",
      "medical_specialty                                                       \n",
      "cardiology                               17.081208           0.289024   \n",
      "emergency/trauma                         14.415546           0.164923   \n",
      "family/generalpractice                   14.411012           0.289443   \n",
      "gastroenterology                         13.784946           0.206452   \n",
      "internalmedicine                         14.758538           0.182036   \n",
      "missing                                  16.267116           0.498276   \n",
      "nephrology                               17.641263           0.367975   \n",
      "obstetricsandgynecology                   14.52354           0.463277   \n",
      "oncology                                 15.789286               0.45   \n",
      "orthopedics                                  20.49           0.175455   \n",
      "orthopedics-reconstructive               20.286442           0.276249   \n",
      "others                                   14.429957            0.28125   \n",
      "physicalmedicineandrehabilitation        13.375839           0.010067   \n",
      "psychiatry                               11.813056           0.167656   \n",
      "pulmonology                                  15.37           0.307143   \n",
      "radiologist                              18.662651           0.438116   \n",
      "surgery-cardiovascular/thoracic          30.789374           0.089184   \n",
      "surgery-general                          16.862515           0.438334   \n",
      "surgery-neuro                            19.581769           0.061662   \n",
      "surgery-vascular                         20.458904           0.579909   \n",
      "urology                                  14.814471           0.202226   \n",
      "\n",
      "                                   number_emergency  number_inpatient  \\\n",
      "medical_specialty                                                       \n",
      "cardiology                                 0.078165          0.433185   \n",
      "emergency/trauma                           0.424016          0.735094   \n",
      "family/generalpractice                     0.208958          0.688668   \n",
      "gastroenterology                           0.086022           0.55914   \n",
      "internalmedicine                            0.17196          0.671875   \n",
      "missing                                    0.192154          0.644803   \n",
      "nephrology                                 0.364896          1.208622   \n",
      "obstetricsandgynecology                     0.06968          0.214689   \n",
      "oncology                                   0.146429          1.132143   \n",
      "orthopedics                                0.048182          0.288182   \n",
      "orthopedics-reconstructive                 0.051988          0.296636   \n",
      "others                                     0.134159          0.526401   \n",
      "physicalmedicineandrehabilitation          0.006711           0.95302   \n",
      "psychiatry                                 0.238872          0.670623   \n",
      "pulmonology                                0.147143          0.704286   \n",
      "radiologist                                 0.13034          0.398686   \n",
      "surgery-cardiovascular/thoracic            0.034156          0.366224   \n",
      "surgery-general                            0.308937          0.651031   \n",
      "surgery-neuro                              0.042895          0.211796   \n",
      "surgery-vascular                            0.13242          0.767123   \n",
      "urology                                     0.12616          0.419295   \n",
      "\n",
      "                                   number_diagnoses  hemoglobin_level  \\\n",
      "medical_specialty                                                       \n",
      "cardiology                                 7.096185         14.329604   \n",
      "emergency/trauma                           7.889387         14.190666   \n",
      "family/generalpractice                     7.139417         14.158141   \n",
      "gastroenterology                           7.539785         14.209892   \n",
      "internalmedicine                           7.092298          14.14731   \n",
      "missing                                    7.743503         14.197616   \n",
      "nephrology                                 7.466513         14.169977   \n",
      "obstetricsandgynecology                    6.297552         13.484557   \n",
      "oncology                                   7.310714         14.276071   \n",
      "orthopedics                                6.444545         14.118909   \n",
      "orthopedics-reconstructive                 6.400612         14.119062   \n",
      "others                                     6.063039         14.173384   \n",
      "physicalmedicineandrehabilitation          7.550336         14.178523   \n",
      "psychiatry                                 6.589021         14.106528   \n",
      "pulmonology                                6.948571         14.200857   \n",
      "radiologist                                7.732749         14.301424   \n",
      "surgery-cardiovascular/thoracic            6.728653         14.405313   \n",
      "surgery-general                            6.949454         14.209139   \n",
      "surgery-neuro                              5.203753         14.259786   \n",
      "surgery-vascular                           7.194064         14.295205   \n",
      "urology                                    6.300557         14.629128   \n",
      "\n",
      "                                   admission_id        patient_id  \n",
      "medical_specialty                                                  \n",
      "cardiology                         40023.278961   86568257.281535  \n",
      "emergency/trauma                   40428.846371  156518661.488789  \n",
      "family/generalpractice             40673.109278    83616192.55969  \n",
      "gastroenterology                   41753.976344  118013735.225806  \n",
      "internalmedicine                    40962.67307   80374513.912739  \n",
      "missing                            40722.571539  122095784.210395  \n",
      "nephrology                         40267.976135   59260953.979985  \n",
      "obstetricsandgynecology            40946.958569   68462417.992467  \n",
      "oncology                           39942.121429  101254547.028571  \n",
      "orthopedics                        40347.724545  100857273.489091  \n",
      "orthopedics-reconstructive         40697.557594   77864418.566769  \n",
      "others                             41273.594289   86307659.956897  \n",
      "physicalmedicineandrehabilitation  40242.855705    50692464.66443  \n",
      "psychiatry                         42883.146884    69675353.25816  \n",
      "pulmonology                            40449.77  101565684.297143  \n",
      "radiologist                        39248.020811  149290469.141292  \n",
      "surgery-cardiovascular/thoracic    41858.907021   36100679.916509  \n",
      "surgery-general                    40660.468257  106358704.023453  \n",
      "surgery-neuro                      40074.852547   52100510.455764  \n",
      "surgery-vascular                    40802.60274  119218715.598174  \n",
      "urology                            41572.575139   75690147.951763  \n"
     ]
    }
   ],
   "source": [
    "mean = df_transformed.groupby(['medical_specialty']).mean()\n",
    "print(mean)"
   ]
  },
  {
   "cell_type": "code",
   "execution_count": 11,
   "id": "d85d34b5",
   "metadata": {
    "scrolled": true
   },
   "outputs": [
    {
     "data": {
      "text/plain": [
       "missing                              40020\n",
       "internalmedicine                     11712\n",
       "emergency/trauma                      6021\n",
       "family/generalpractice                5939\n",
       "cardiology                            4273\n",
       "surgery-general                       2473\n",
       "others                                1856\n",
       "nephrology                            1299\n",
       "orthopedics                           1100\n",
       "orthopedics-reconstructive             981\n",
       "radiologist                            913\n",
       "pulmonology                            700\n",
       "psychiatry                             674\n",
       "urology                                539\n",
       "obstetricsandgynecology                531\n",
       "surgery-cardiovascular/thoracic        527\n",
       "gastroenterology                       465\n",
       "surgery-vascular                       438\n",
       "surgery-neuro                          373\n",
       "physicalmedicineandrehabilitation      298\n",
       "oncology                               280\n",
       "Name: medical_specialty, dtype: int64"
      ]
     },
     "execution_count": 11,
     "metadata": {},
     "output_type": "execute_result"
    }
   ],
   "source": [
    "df_transformed['medical_specialty'].value_counts()"
   ]
  },
  {
   "cell_type": "code",
   "execution_count": null,
   "id": "a251d7e0",
   "metadata": {},
   "outputs": [],
   "source": [
    "    \n"
   ]
  },
  {
   "cell_type": "code",
   "execution_count": null,
   "id": "6d1c83f4",
   "metadata": {},
   "outputs": [],
   "source": [
    "df_transformed_report = ProfileReport(df_transformed)\n",
    "df_transformed_report"
   ]
  },
  {
   "cell_type": "code",
   "execution_count": null,
   "id": "bdc73f0d",
   "metadata": {},
   "outputs": [],
   "source": [
    "is_float(\"v123\")"
   ]
  },
  {
   "cell_type": "markdown",
   "id": "68e94900",
   "metadata": {},
   "source": [
    "# Feature Importance"
   ]
  },
  {
   "cell_type": "code",
   "execution_count": null,
   "id": "ebfd2edc",
   "metadata": {},
   "outputs": [],
   "source": [
    "import pandas as pd\n",
    "import pydotplus\n",
    "from sklearn.tree import (\n",
    "    DecisionTreeClassifier,\n",
    "    export_graphviz,\n",
    ")\n",
    "def separate_target_variable(data):\n",
    "    X = data.copy()\n",
    "    y = X.pop('readmitted')\n",
    "    \n",
    "    return X, y\n",
    "\n",
    "def process_categorical_features(X):\n",
    "    return pd.get_dummies(X)\n",
    "\n",
    "\n",
    "def visualize_tree(clf, feature_names, class_names):\n",
    "    dot_data = export_graphviz(\n",
    "        clf,\n",
    "        out_file=None,\n",
    "        feature_names=feature_names,\n",
    "        class_names=class_names,\n",
    "    )\n",
    "\n",
    "    graph = pydotplus.graph_from_dot_data(dot_data)\n",
    "    return graph.create_png()\n",
    "\n"
   ]
  },
  {
   "cell_type": "code",
   "execution_count": null,
   "id": "7efccc1f",
   "metadata": {},
   "outputs": [],
   "source": [
    "X, y = separate_target_variable(df_transformed)\n",
    "X = X.drop(columns=['patient_id','admission_id'])\n",
    "X = process_categorical_features(X)\n",
    "y= y.astype('int')"
   ]
  },
  {
   "cell_type": "code",
   "execution_count": null,
   "id": "febb47ff",
   "metadata": {},
   "outputs": [],
   "source": [
    "\n",
    "from sklearn.tree import DecisionTreeClassifier, DecisionTreeRegressor\n",
    "\n",
    "model = DecisionTreeClassifier(\n",
    "    criterion='entropy',\n",
    "    random_state=101\n",
    ")\n",
    "\n",
    "model.fit(X, y)"
   ]
  },
  {
   "cell_type": "code",
   "execution_count": null,
   "id": "92937b01",
   "metadata": {},
   "outputs": [],
   "source": [
    "tree = visualize_tree(model, X.columns, [\"negative_class\", \"positive_class\"])\n",
    "Image(tree)"
   ]
  },
  {
   "cell_type": "code",
   "execution_count": null,
   "id": "01eebc16",
   "metadata": {},
   "outputs": [],
   "source": [
    "feature_importances = pd.Series(data=model.feature_importances_, index=X.columns)\n",
    "feature_importances.sort_values(ascending=False).head(50)"
   ]
  }
 ],
 "metadata": {
  "kernelspec": {
   "display_name": "Python 3 (ipykernel)",
   "language": "python",
   "name": "python3"
  },
  "language_info": {
   "codemirror_mode": {
    "name": "ipython",
    "version": 3
   },
   "file_extension": ".py",
   "mimetype": "text/x-python",
   "name": "python",
   "nbconvert_exporter": "python",
   "pygments_lexer": "ipython3",
   "version": "3.7.12"
  }
 },
 "nbformat": 4,
 "nbformat_minor": 5
}
