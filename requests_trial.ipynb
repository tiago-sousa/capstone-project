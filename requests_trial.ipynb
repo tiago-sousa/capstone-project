{
 "cells": [
  {
   "cell_type": "code",
   "execution_count": 22,
   "id": "74a52e2f",
   "metadata": {},
   "outputs": [],
   "source": [
    "import requests\n",
    "import pandas as pd\n",
    "import simplejson as json"
   ]
  },
  {
   "cell_type": "code",
   "execution_count": 58,
   "id": "d108de6c",
   "metadata": {},
   "outputs": [],
   "source": [
    "def to_string(obj):\n",
    "    if obj == True:\n",
    "        return \"Yes\"\n",
    "    elif obj == False:\n",
    "        return \"No\""
   ]
  },
  {
   "cell_type": "code",
   "execution_count": 56,
   "id": "a8b9792c",
   "metadata": {},
   "outputs": [],
   "source": [
    "trial_round_1 = pd.read_json(\"data/moment_1_trial.json\")\n",
    "trial_round_2 = pd.read_json(\"data/moment_2_trial.json\")\n",
    "url_predict = 'https://capstone-batch5-tiago-sousa.herokuapp.com/predict'\n",
    "url_update = 'https://capstone-batch5-tiago-sousa.herokuapp.com/update'\n",
    "headers = {'Content-type': 'application/json', 'Accept': 'text/plain'}"
   ]
  },
  {
   "cell_type": "markdown",
   "id": "856a9993",
   "metadata": {},
   "source": [
    "# Round 1"
   ]
  },
  {
   "cell_type": "code",
   "execution_count": 26,
   "id": "eadee0f4",
   "metadata": {},
   "outputs": [],
   "source": [
    "for r in trial_round_1['data']:\n",
    "    payload = r\n",
    "    x = requests.post(url_predict, data = json.dumps(payload), headers=headers)"
   ]
  },
  {
   "cell_type": "code",
   "execution_count": 63,
   "id": "005097a1",
   "metadata": {},
   "outputs": [],
   "source": [
    "for r in trial_round_1.iterrows():\n",
    "    payload = {'admission_id':dict(r[1])['data']['admission_id'],\"readmitted\": to_string(dict(r[1])['outcome'])}\n",
    "    x = requests.post(url_update, data = json.dumps(payload), headers=headers)"
   ]
  },
  {
   "cell_type": "markdown",
   "id": "d62d8ddc",
   "metadata": {},
   "source": [
    "# Round 2"
   ]
  },
  {
   "cell_type": "code",
   "execution_count": 60,
   "id": "7fb61ad5",
   "metadata": {},
   "outputs": [
    {
     "data": {
      "text/html": [
       "<div><div id=c2db9e6b-6502-4735-9509-c45abbaaf52d style=\"display:none; background-color:#9D6CFF; color:white; width:200px; height:30px; padding-left:5px; border-radius:4px; flex-direction:row; justify-content:space-around; align-items:center;\" onmouseover=\"this.style.backgroundColor='#BA9BF8'\" onmouseout=\"this.style.backgroundColor='#9D6CFF'\" onclick=\"window.commands?.execute('create-mitosheet-from-dataframe-output');\">See Full Dataframe in Mito</div> <script> if (window.commands.hasCommand('create-mitosheet-from-dataframe-output')) document.getElementById('c2db9e6b-6502-4735-9509-c45abbaaf52d').style.display = 'flex' </script> <table border=\"1\" class=\"dataframe\">\n",
       "  <thead>\n",
       "    <tr style=\"text-align: right;\">\n",
       "      <th></th>\n",
       "      <th>data</th>\n",
       "      <th>outcome</th>\n",
       "    </tr>\n",
       "  </thead>\n",
       "  <tbody>\n",
       "    <tr>\n",
       "      <th>0</th>\n",
       "      <td>{'admission_id': 82679, 'readmitted': 'No'}</td>\n",
       "      <td>True</td>\n",
       "    </tr>\n",
       "    <tr>\n",
       "      <th>1</th>\n",
       "      <td>{'admission_id': 83311, 'readmitted': 'No'}</td>\n",
       "      <td>True</td>\n",
       "    </tr>\n",
       "    <tr>\n",
       "      <th>2</th>\n",
       "      <td>{'admission_id': 84417, 'readmitted': 'No'}</td>\n",
       "      <td>True</td>\n",
       "    </tr>\n",
       "    <tr>\n",
       "      <th>3</th>\n",
       "      <td>{'admission_id': 100530, 'readmitted': 'No'}</td>\n",
       "      <td>True</td>\n",
       "    </tr>\n",
       "    <tr>\n",
       "      <th>4</th>\n",
       "      <td>{'admission_id': 81601, 'readmitted': 'No'}</td>\n",
       "      <td>True</td>\n",
       "    </tr>\n",
       "    <tr>\n",
       "      <th>...</th>\n",
       "      <td>...</td>\n",
       "      <td>...</td>\n",
       "    </tr>\n",
       "    <tr>\n",
       "      <th>25</th>\n",
       "      <td>{'admission_id': 92696, 'readmitted': 'No'}</td>\n",
       "      <td>True</td>\n",
       "    </tr>\n",
       "    <tr>\n",
       "      <th>26</th>\n",
       "      <td>{'admission_id': 93376, 'readmitted': 'No'}</td>\n",
       "      <td>True</td>\n",
       "    </tr>\n",
       "    <tr>\n",
       "      <th>27</th>\n",
       "      <td>{'admission_id': 86802, 'readmitted': 'Yes'}</td>\n",
       "      <td>True</td>\n",
       "    </tr>\n",
       "    <tr>\n",
       "      <th>28</th>\n",
       "      <td>{'admission_id': 82272, 'readmitted': 'No'}</td>\n",
       "      <td>True</td>\n",
       "    </tr>\n",
       "    <tr>\n",
       "      <th>29</th>\n",
       "      <td>{'admission_id': 97207, 'readmitted': 'No'}</td>\n",
       "      <td>True</td>\n",
       "    </tr>\n",
       "  </tbody>\n",
       "</table></div>"
      ],
      "text/plain": [
       "                                            data  outcome\n",
       "0    {'admission_id': 82679, 'readmitted': 'No'}     True\n",
       "1    {'admission_id': 83311, 'readmitted': 'No'}     True\n",
       "2    {'admission_id': 84417, 'readmitted': 'No'}     True\n",
       "3   {'admission_id': 100530, 'readmitted': 'No'}     True\n",
       "4    {'admission_id': 81601, 'readmitted': 'No'}     True\n",
       "5    {'admission_id': 84159, 'readmitted': 'No'}     True\n",
       "6    {'admission_id': 99843, 'readmitted': 'No'}     True\n",
       "7   {'admission_id': 100354, 'readmitted': 'No'}     True\n",
       "8   {'admission_id': 90078, 'readmitted': 'Yes'}     True\n",
       "9    {'admission_id': 87808, 'readmitted': 'No'}     True\n",
       "10  {'admission_id': 101181, 'readmitted': 'No'}     True\n",
       "11   {'admission_id': 98980, 'readmitted': 'No'}     True\n",
       "12   {'admission_id': 87832, 'readmitted': 'No'}     True\n",
       "13  {'admission_id': 86463, 'readmitted': 'Yes'}     True\n",
       "14   {'admission_id': 86723, 'readmitted': 'No'}     True\n",
       "15   {'admission_id': 83845, 'readmitted': 'No'}     True\n",
       "16   {'admission_id': 82181, 'readmitted': 'No'}     True\n",
       "17   {'admission_id': 83097, 'readmitted': 'No'}     True\n",
       "18   {'admission_id': 89734, 'readmitted': 'No'}     True\n",
       "19   {'admission_id': 97435, 'readmitted': 'No'}     True\n",
       "20   {'admission_id': 92775, 'readmitted': 'No'}     True\n",
       "21   {'admission_id': 95835, 'readmitted': 'No'}     True\n",
       "22  {'admission_id': 85838, 'readmitted': 'Yes'}     True\n",
       "23   {'admission_id': 98262, 'readmitted': 'No'}     True\n",
       "24   {'admission_id': 87677, 'readmitted': 'No'}     True\n",
       "25   {'admission_id': 92696, 'readmitted': 'No'}     True\n",
       "26   {'admission_id': 93376, 'readmitted': 'No'}     True\n",
       "27  {'admission_id': 86802, 'readmitted': 'Yes'}     True\n",
       "28   {'admission_id': 82272, 'readmitted': 'No'}     True\n",
       "29   {'admission_id': 97207, 'readmitted': 'No'}     True"
      ]
     },
     "execution_count": 60,
     "metadata": {},
     "output_type": "execute_result"
    }
   ],
   "source": [
    "trial_round_2"
   ]
  }
 ],
 "metadata": {
  "kernelspec": {
   "display_name": "Python 3 (ipykernel)",
   "language": "python",
   "name": "python3"
  },
  "language_info": {
   "codemirror_mode": {
    "name": "ipython",
    "version": 3
   },
   "file_extension": ".py",
   "mimetype": "text/x-python",
   "name": "python",
   "nbconvert_exporter": "python",
   "pygments_lexer": "ipython3",
   "version": "3.7.12"
  }
 },
 "nbformat": 4,
 "nbformat_minor": 5
}
