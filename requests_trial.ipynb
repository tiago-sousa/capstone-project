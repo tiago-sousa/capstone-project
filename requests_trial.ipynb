{
 "cells": [
  {
   "cell_type": "code",
   "execution_count": 1,
   "id": "cb76a922",
   "metadata": {},
   "outputs": [],
   "source": [
    "import requests\n",
    "import pandas as pd\n",
    "import simplejson as json"
   ]
  },
  {
   "cell_type": "code",
   "execution_count": 2,
   "id": "9eb0fe85",
   "metadata": {},
   "outputs": [],
   "source": [
    "def to_string(obj):\n",
    "    if obj == True:\n",
    "        return \"Yes\"\n",
    "    elif obj == False:\n",
    "        return \"No\""
   ]
  },
  {
   "cell_type": "code",
   "execution_count": 36,
   "id": "f79ac509",
   "metadata": {},
   "outputs": [],
   "source": [
    "trial_round_1 = pd.read_json(\"data/moment_1_trial.json\")\n",
    "trial_round_2 = pd.read_json(\"data/moment_2_trial.json\")\n",
    "url_predict = 'https://capstone-batch5-tiago-sousa.herokuapp.com/predict'\n",
    "url_update = 'https://capstone-batch5-tiago-sousa.herokuapp.com/update'\n",
    "headers = {'Content-type': 'application/json', 'Accept': 'text/plain'}\n",
    "url_predict = 'http://localhost:5000/predict'\n",
    "url_update = 'http://localhost:5000/update'\n"
   ]
  },
  {
   "cell_type": "markdown",
   "id": "f4e30849",
   "metadata": {},
   "source": [
    "# Round 1"
   ]
  },
  {
   "cell_type": "code",
   "execution_count": 38,
   "id": "9fce5627",
   "metadata": {},
   "outputs": [],
   "source": [
    "for r in trial_round_1['data']:\n",
    "    payload = r\n",
    "    x = requests.post(url_predict, data = json.dumps(payload), headers=headers)"
   ]
  },
  {
   "cell_type": "code",
   "execution_count": null,
   "id": "55d55889",
   "metadata": {},
   "outputs": [],
   "source": [
    "#for r in trial_round_1.iterrows():\n",
    "#    payload = {'admission_id':dict(r[1])['data']['admission_id'],\"readmitted\": to_string(dict(r[1])['outcome'])}\n",
    "#    x = requests.post(url_update, data = json.dumps(payload), headers=headers)"
   ]
  },
  {
   "cell_type": "markdown",
   "id": "0fa947ba",
   "metadata": {},
   "source": [
    "# Round 2"
   ]
  },
  {
   "cell_type": "code",
   "execution_count": 34,
   "id": "2a425309",
   "metadata": {},
   "outputs": [],
   "source": [
    "for r in trial_round_2['data']:\n",
    "    payload = r\n",
    "    x = requests.post(url_update, data = json.dumps(payload), headers=headers)"
   ]
  },
  {
   "cell_type": "code",
   "execution_count": 12,
   "id": "9af722f8",
   "metadata": {},
   "outputs": [],
   "source": [
    "#for r in trial_round_2.iterrows():\n",
    "#    payload = {'admission_id':dict(r[1])['data']['admission_id'],\"readmitted\": to_string(dict(r[1])['outcome'])}\n",
    "#    x = requests.post(url_update, data = json.dumps(payload), headers=headers)"
   ]
  }
 ],
 "metadata": {
  "kernelspec": {
   "display_name": "Python 3 (ipykernel)",
   "language": "python",
   "name": "python3"
  },
  "language_info": {
   "codemirror_mode": {
    "name": "ipython",
    "version": 3
   },
   "file_extension": ".py",
   "mimetype": "text/x-python",
   "name": "python",
   "nbconvert_exporter": "python",
   "pygments_lexer": "ipython3",
   "version": "3.7.12"
  }
 },
 "nbformat": 4,
 "nbformat_minor": 5
}
